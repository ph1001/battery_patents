{
 "cells": [
  {
   "cell_type": "code",
   "execution_count": 1,
   "id": "dea1ffec",
   "metadata": {},
   "outputs": [
    {
     "data": {
      "text/html": [
       "<style>.container { width:98% !important; }</style>"
      ],
      "text/plain": [
       "<IPython.core.display.HTML object>"
      ]
     },
     "metadata": {},
     "output_type": "display_data"
    },
    {
     "data": {
      "text/html": [
       "<style>.output_result { max-width:98% !important; }</style>"
      ],
      "text/plain": [
       "<IPython.core.display.HTML object>"
      ]
     },
     "metadata": {},
     "output_type": "display_data"
    }
   ],
   "source": [
    "from IPython.core.display import display, HTML\n",
    "display(HTML(\"<style>.container { width:98% !important; }</style>\"))\n",
    "display(HTML(\"<style>.output_result { max-width:98% !important; }</style>\"))\n"
   ]
  },
  {
   "cell_type": "markdown",
   "id": "286bf538",
   "metadata": {},
   "source": [
    "## Version info:\n",
    "- all data (ungranted as well)\n",
    "- IPFs only\n",
    "- Counting by: inventors"
   ]
  },
  {
   "cell_type": "markdown",
   "id": "c0265c68",
   "metadata": {},
   "source": [
    "### Imports"
   ]
  },
  {
   "cell_type": "code",
   "execution_count": 2,
   "id": "practical-advertising",
   "metadata": {},
   "outputs": [],
   "source": [
    "import pandas as pd\n",
    "import numpy as np\n",
    "from tqdm.notebook import tqdm\n",
    "import plotly.graph_objects as go\n",
    "import plotly.express as px\n",
    "import plotly.colors as colors\n",
    "from datetime import datetime\n",
    "import re\n",
    "import os\n",
    "import csv\n",
    "from sklearn.preprocessing import MinMaxScaler\n",
    "from sklearn.cluster import KMeans\n",
    "import matplotlib.pyplot as plt\n",
    "import seaborn as sns\n",
    "from sklearn.cluster import AgglomerativeClustering\n",
    "from scipy.cluster.hierarchy import dendrogram\n",
    "from sklearn.base import clone\n",
    "import plotly.io as pio\n",
    "import math\n",
    "import itertools as it\n",
    "from collections import Counter\n",
    "from random import choice\n",
    "from nltk.util import ngrams, everygrams\n",
    "import copy\n",
    "\n",
    "# Set default color palette\n",
    "colors_plotly_default = colors.qualitative.Plotly\n",
    "\n",
    "main_path_mac = '/Users/philippmetzger/Documents/GitHub/battery_patents/'\n",
    "main_path_ssd = '/Volumes/Samsung Portable SSD T3 Media/'\n",
    "\n",
    "import sys\n",
    "packages_path = main_path_mac+'/02 Code'\n",
    "sys.path.append(packages_path)\n",
    "\n",
    "from helpers import (current_time_string,\n",
    "                              image_saver,\n",
    "                              country_labels_dict,\n",
    "                              ctry_code_name_dict,\n",
    "                              message,\n",
    "                              numbers_dict)\n"
   ]
  },
  {
   "cell_type": "code",
   "execution_count": 3,
   "id": "21bbef7e",
   "metadata": {},
   "outputs": [],
   "source": [
    "# Create another dictionary that is almost the same as ctry_code_name_dict. Just some values are changed\n",
    "# due to different country names in UN populations dataset\n",
    "ctry_code_name_dict_UN = ctry_code_name_dict.copy()\n",
    "\n",
    "# Define a function for this purpose\n",
    "def replace_dict_value(dict_, key_, new):\n",
    "    \n",
    "    dict_[key_] = new\n",
    "\n",
    "# Define changes: First values = key, second values = new values\n",
    "key_new = [\n",
    "    ('TW', 'China, Taiwan Province of China'),\n",
    "    ('HK', 'China, Hong Kong SAR'),\n",
    "    ('SH', 'Saint Helena'),\n",
    "    ('KP', \"Dem. People's Republic of Korea\"),\n",
    "    ('MO', 'China, Macao SAR')\n",
    "]\n",
    "\n",
    "# Execute changes\n",
    "for tuple_ in key_new:\n",
    "    replace_dict_value(ctry_code_name_dict_UN, tuple_[0], tuple_[1])\n",
    "    "
   ]
  },
  {
   "cell_type": "code",
   "execution_count": 4,
   "id": "502a58e1",
   "metadata": {},
   "outputs": [],
   "source": [
    "# Create another dictionary that is almost the same as ctry_code_name_dict. Just some values are changed\n",
    "# due to different country names in world bank work force dataset\n",
    "ctry_code_name_dict_world_bank = ctry_code_name_dict.copy()\n",
    "\n",
    "# Define a function for this purpose\n",
    "def replace_dict_value(dict_, key_, new):\n",
    "    \n",
    "    dict_[key_] = new\n",
    "\n",
    "# Define changes: First values = key, second values = new values\n",
    "key_new = [\n",
    "    ('KR', 'Korea, Rep.'),\n",
    "    ('US', 'United States'),\n",
    "    ('HK', 'Hong Kong SAR, China'),\n",
    "    ('BS', 'Bahamas, The'),\n",
    "    ('CZ', 'Czech Republic'),\n",
    "    ('IR', 'Iran, Islamic Rep.'),\n",
    "    ('SK', 'Slovak Republic'),\n",
    "    ('VE', 'Venezuela, RB'),\n",
    "    ('EG', 'Egypt, Arab Rep.'),\n",
    "    ('KP', \"Korea, Dem. People's Rep.\"),\n",
    "    ('EG', 'Egypt, Arab Rep.'),\n",
    "    ('KG', 'Kyrgyz Republic'),\n",
    "    ('LA', 'Lao PDR'),\n",
    "    ('MO', 'Macao SAR, China'),\n",
    "    ('LC', 'St. Lucia'),\n",
    "    ('TZ', 'Tanzania'),\n",
    "    ('VN', 'Vietnam')\n",
    "]\n",
    "\n",
    "# Execute changes\n",
    "for tuple_ in key_new:\n",
    "    replace_dict_value(ctry_code_name_dict_world_bank, tuple_[0], tuple_[1])\n",
    "    "
   ]
  },
  {
   "cell_type": "code",
   "execution_count": 5,
   "id": "10e0b87a",
   "metadata": {},
   "outputs": [
    {
     "name": "stdout",
     "output_type": "stream",
     "text": [
      "executing a function from helpers.py\n"
     ]
    }
   ],
   "source": [
    "message()\n"
   ]
  },
  {
   "cell_type": "code",
   "execution_count": 6,
   "id": "0747c3f2",
   "metadata": {
    "scrolled": true
   },
   "outputs": [
    {
     "data": {
      "text/plain": [
       "'2022-01-27_1449'"
      ]
     },
     "execution_count": 6,
     "metadata": {},
     "output_type": "execute_result"
    }
   ],
   "source": [
    "current_time_string()\n"
   ]
  },
  {
   "cell_type": "markdown",
   "id": "0e4c0040",
   "metadata": {},
   "source": [
    "## Read the whole dataset and reduce it to what we are interested in"
   ]
  },
  {
   "cell_type": "code",
   "execution_count": 7,
   "id": "c26cecc6",
   "metadata": {},
   "outputs": [
    {
     "name": "stdout",
     "output_type": "stream",
     "text": [
      "Loading data from:\n",
      "/Volumes/Samsung Portable SSD T3 Media/Dataset saves/04 From 15 Nov 2021 (release of 2021 Autumn edition)/01 Preprocessed/03 final - technologies tagged/data_batteries_2022-01-26_1852.csv\n",
      "Number of rows: 4086532\n",
      "Distinct values in column \"granted\": ['N' 'Y']\n",
      "Percentage of IPFs in relation to all battery patent families:19.41%\n"
     ]
    }
   ],
   "source": [
    "# Read the whole dataset\n",
    "dataset_name = 'data_batteries_2022-01-26_1852'\n",
    "\n",
    "path = main_path_ssd+'Dataset saves/04 From 15 Nov 2021 (release of 2021 Autumn edition)/01 Preprocessed/03 final - technologies tagged/'+dataset_name+'.csv'\n",
    "\n",
    "print('Loading data from:')\n",
    "print(path)\n",
    "\n",
    "data = pd.read_csv(path, delimiter = \";\", low_memory = False, na_values=['', ' ', '  '], keep_default_na = False)\n",
    "\n",
    "print('Number of rows:', len(data))\n",
    "\n",
    "print('Distinct values in column \"granted\":', pd.unique(data['granted']))\n",
    "\n",
    "# Reduce it to non active parts, electrodes, secondary cells, charging, redox flow, and Nickel-Hydrogen\n",
    "a = (data['non_active_parts_electrodes_secondary_cells'] == 1)\n",
    "b = (data['charging'] == 1)\n",
    "c = (data['is_Redox flow'] == 1)\n",
    "d = (data['is_Nickel–hydrogen'] == 1)\n",
    "\n",
    "data_reduced = data[a | b | c | d].copy()\n",
    "del data\n",
    "data = data_reduced\n",
    "\n",
    "# Futher reduce it to IPFs only\n",
    "data_ipf = data[data['tag'] == 'IPF'].copy()\n",
    "ipf_percentage = (len(set(data_ipf['docdb_family_id'])) / len(set(data['docdb_family_id']))) * 100\n",
    "print('Percentage of IPFs in relation to all battery patent families:'+str(round(ipf_percentage, 2))+'%')\n",
    "del data\n",
    "data = data_ipf\n"
   ]
  },
  {
   "cell_type": "markdown",
   "id": "1e32929c",
   "metadata": {},
   "source": [
    "## Reduce to years we are interested in"
   ]
  },
  {
   "cell_type": "code",
   "execution_count": 8,
   "id": "cde582a6",
   "metadata": {},
   "outputs": [
    {
     "name": "stdout",
     "output_type": "stream",
     "text": [
      "{1999, 2000, 2001, 2002, 2003, 2004, 2005, 2006, 2007, 2008, 2009, 2010, 2011, 2012, 2013, 2014, 2015, 2016, 2017, 2018, 2019}\n"
     ]
    }
   ],
   "source": [
    "print(set(data['earliest_publn_year_this_family_id']))\n"
   ]
  },
  {
   "cell_type": "code",
   "execution_count": 9,
   "id": "1b3a15da",
   "metadata": {},
   "outputs": [],
   "source": [
    "data_reduced = data[data['earliest_publn_year_this_family_id'] >= 2000].copy()\n",
    "del data\n",
    "data = data_reduced\n"
   ]
  },
  {
   "cell_type": "code",
   "execution_count": 10,
   "id": "1442de39",
   "metadata": {},
   "outputs": [
    {
     "name": "stdout",
     "output_type": "stream",
     "text": [
      "{2000, 2001, 2002, 2003, 2004, 2005, 2006, 2007, 2008, 2009, 2010, 2011, 2012, 2013, 2014, 2015, 2016, 2017, 2018, 2019}\n"
     ]
    }
   ],
   "source": [
    "print(set(data['earliest_publn_year_this_family_id']))\n"
   ]
  },
  {
   "cell_type": "markdown",
   "id": "25ed947d",
   "metadata": {},
   "source": [
    "## Define variable only_granted. Only used for creation of plot filenames"
   ]
  },
  {
   "cell_type": "code",
   "execution_count": 11,
   "id": "1f1fb321",
   "metadata": {},
   "outputs": [],
   "source": [
    "only_granted = False\n"
   ]
  },
  {
   "cell_type": "markdown",
   "id": "63a6673a",
   "metadata": {},
   "source": [
    "## Make a few checks: Total number of IPFs, number of IPFs related to different categories, distinct values in column 'tag'"
   ]
  },
  {
   "cell_type": "code",
   "execution_count": 12,
   "id": "f1a2b165",
   "metadata": {},
   "outputs": [
    {
     "data": {
      "text/plain": [
       "92700"
      ]
     },
     "execution_count": 12,
     "metadata": {},
     "output_type": "execute_result"
    }
   ],
   "source": [
    "len(list(set(data['docdb_family_id'])))\n"
   ]
  },
  {
   "cell_type": "code",
   "execution_count": 13,
   "id": "c64175b7",
   "metadata": {},
   "outputs": [
    {
     "data": {
      "text/plain": [
       "63282"
      ]
     },
     "execution_count": 13,
     "metadata": {},
     "output_type": "execute_result"
    }
   ],
   "source": [
    "len(list(set(data[data['non_active_parts_electrodes_secondary_cells'] == 1]['docdb_family_id'])))\n"
   ]
  },
  {
   "cell_type": "code",
   "execution_count": 14,
   "id": "758c6336",
   "metadata": {},
   "outputs": [
    {
     "data": {
      "text/plain": [
       "44039"
      ]
     },
     "execution_count": 14,
     "metadata": {},
     "output_type": "execute_result"
    }
   ],
   "source": [
    "len(list(set(data[data['charging'] == 1]['docdb_family_id'])))\n"
   ]
  },
  {
   "cell_type": "code",
   "execution_count": 15,
   "id": "cd85b0fd",
   "metadata": {},
   "outputs": [
    {
     "data": {
      "text/plain": [
       "843"
      ]
     },
     "execution_count": 15,
     "metadata": {},
     "output_type": "execute_result"
    }
   ],
   "source": [
    "len(list(set(data[data['is_Redox flow'] == 1]['docdb_family_id'])))\n"
   ]
  },
  {
   "cell_type": "code",
   "execution_count": 16,
   "id": "ed48dbf4",
   "metadata": {},
   "outputs": [
    {
     "data": {
      "text/plain": [
       "{'IPF'}"
      ]
     },
     "execution_count": 16,
     "metadata": {},
     "output_type": "execute_result"
    }
   ],
   "source": [
    "set(data['tag'])\n"
   ]
  },
  {
   "cell_type": "markdown",
   "id": "3c493afe",
   "metadata": {},
   "source": [
    "## In person_ctry_code: Replace NaNs with '  '"
   ]
  },
  {
   "cell_type": "code",
   "execution_count": 17,
   "id": "d31af195",
   "metadata": {},
   "outputs": [],
   "source": [
    "data['person_ctry_code'].fillna('  ', inplace = True)\n",
    "#data['person_ctry_code_imputed'].fillna('  ', inplace = True)\n"
   ]
  },
  {
   "cell_type": "markdown",
   "id": "8ec2e8a8",
   "metadata": {},
   "source": [
    "## Dataset integrity check"
   ]
  },
  {
   "cell_type": "code",
   "execution_count": 18,
   "id": "87b6791e",
   "metadata": {},
   "outputs": [],
   "source": [
    "def check_if_docdb_family_size_is_equal_to_number_of_applications(data_to_check):\n",
    "\n",
    "    \"\"\"Version 2 - 3. Jan 2022 (altered version from function in Create_db_4)\n",
    "    Does not print when unequal. Instad increments a counter that it returns.\"\"\"\n",
    "    \n",
    "    reduced = data_to_check[['docdb_family_id','appln_id','docdb_family_size']].drop_duplicates()\n",
    "\n",
    "    family_ids = pd.unique(reduced['docdb_family_id'])\n",
    "\n",
    "    counter = 0\n",
    "    \n",
    "    for family_id in tqdm(family_ids):\n",
    "        \n",
    "        reduced_this_family_id = reduced[reduced['docdb_family_id'] == family_id]\n",
    "\n",
    "        len_ = len(reduced_this_family_id)\n",
    "        docdb_family_size = list(set(reduced_this_family_id['docdb_family_size']))\n",
    "\n",
    "        if len(docdb_family_size) > 1:\n",
    "            print(str(family_id)+': There is more than one docdb_family_size.')\n",
    "            break\n",
    "\n",
    "        docdb_family_size = docdb_family_size[0]\n",
    "\n",
    "        if (len_ != docdb_family_size):\n",
    "            #print(str(family_id)+': docdb_family_size is not equal to the number of applications contained in this family')\n",
    "            counter += 1\n",
    "            \n",
    "    return counter"
   ]
  },
  {
   "cell_type": "code",
   "execution_count": 19,
   "id": "f0a72702",
   "metadata": {},
   "outputs": [],
   "source": [
    "# Returns 0 if all is as it should be\n",
    "# Uncomment this to check\n",
    "\n",
    "#check_if_docdb_family_size_is_equal_to_number_of_applications(data)\n"
   ]
  },
  {
   "cell_type": "markdown",
   "id": "d1ec2e19",
   "metadata": {},
   "source": [
    "## Infer our time frame from data"
   ]
  },
  {
   "cell_type": "code",
   "execution_count": 20,
   "id": "9bc31693-0283-4016-b4cc-8f6eae41ba0b",
   "metadata": {},
   "outputs": [
    {
     "name": "stdout",
     "output_type": "stream",
     "text": [
      "[2000, 2001, 2002, 2003, 2004, 2005, 2006, 2007, 2008, 2009, 2010, 2011, 2012, 2013, 2014, 2015, 2016, 2017, 2018, 2019]\n"
     ]
    }
   ],
   "source": [
    "year_begin = min(data['earliest_publn_year_this_family_id'])\n",
    "year_end = max(data['earliest_publn_year_this_family_id'])\n",
    "\n",
    "years = list(range(year_begin, year_end + 1))\n",
    "print(years)\n"
   ]
  },
  {
   "cell_type": "markdown",
   "id": "disciplinary-marketing",
   "metadata": {},
   "source": [
    "## Assess missing values situation\n",
    "### Check the percentage of missing values in person_ctry_code"
   ]
  },
  {
   "cell_type": "code",
   "execution_count": 21,
   "id": "66298960",
   "metadata": {},
   "outputs": [
    {
     "data": {
      "text/plain": [
       "0.3070879822843029"
      ]
     },
     "execution_count": 21,
     "metadata": {},
     "output_type": "execute_result"
    }
   ],
   "source": [
    "len(data[data['person_ctry_code'] == '  ']) / len(data)\n",
    "#len(data[data['person_ctry_code'].isna()]) / len(data)\n",
    "#len(data[data['person_ctry_code'] == '  ']) / len(data)\n",
    "#len(data[data['person_ctry_code'].isna()]) / len(data)\n"
   ]
  },
  {
   "cell_type": "markdown",
   "id": "found-tomorrow",
   "metadata": {},
   "source": [
    "### Get the application authority distribution for rows with missing person_ctry_code"
   ]
  },
  {
   "cell_type": "code",
   "execution_count": 22,
   "id": "pacific-living",
   "metadata": {},
   "outputs": [
    {
     "data": {
      "text/plain": [
       "appln_auth\n",
       "CN    223386\n",
       "JP    144619\n",
       "KR     31137\n",
       "AU     14767\n",
       "WO     12088\n",
       "ES      6481\n",
       "HK      4170\n",
       "MX      2521\n",
       "US      2249\n",
       "BR      1471\n",
       "Name: count, dtype: int64"
      ]
     },
     "execution_count": 22,
     "metadata": {},
     "output_type": "execute_result"
    }
   ],
   "source": [
    "nan_data_appln_auth_counts = data[data['person_ctry_code'] == '  '].groupby(by='appln_auth').count().sort_values(by='docdb_family_id', ascending=False).rename(columns=({'docdb_family_id':'count'}))['count']\n",
    "nan_data_appln_auth_counts[:10]\n"
   ]
  },
  {
   "cell_type": "markdown",
   "id": "bef85c8d",
   "metadata": {},
   "source": [
    "### Share of applications with missing person_ctry_code that are filed in China"
   ]
  },
  {
   "cell_type": "code",
   "execution_count": 23,
   "id": "bd17afc8",
   "metadata": {},
   "outputs": [
    {
     "data": {
      "text/plain": [
       "0.4956533315582773"
      ]
     },
     "execution_count": 23,
     "metadata": {},
     "output_type": "execute_result"
    }
   ],
   "source": [
    "nan_share_china = nan_data_appln_auth_counts['CN'] / nan_data_appln_auth_counts.sum()\n",
    "nan_share_china\n"
   ]
  },
  {
   "cell_type": "markdown",
   "id": "d32ad0cd",
   "metadata": {},
   "source": [
    "### Share of applications with missing person_ctry_code that are filed in Japan"
   ]
  },
  {
   "cell_type": "code",
   "execution_count": 24,
   "id": "38a8e936",
   "metadata": {},
   "outputs": [
    {
     "data": {
      "text/plain": [
       "0.3208835341365462"
      ]
     },
     "execution_count": 24,
     "metadata": {},
     "output_type": "execute_result"
    }
   ],
   "source": [
    "nan_share_japan = nan_data_appln_auth_counts['JP'] / nan_data_appln_auth_counts.sum()\n",
    "nan_share_japan\n"
   ]
  },
  {
   "cell_type": "markdown",
   "id": "eb4a95d3",
   "metadata": {},
   "source": [
    "### Share of applications with missing person_ctry_code that are filed in the rest of the world"
   ]
  },
  {
   "cell_type": "code",
   "execution_count": 25,
   "id": "5a336dbc",
   "metadata": {},
   "outputs": [
    {
     "data": {
      "text/plain": [
       "0.18346313430517652"
      ]
     },
     "execution_count": 25,
     "metadata": {},
     "output_type": "execute_result"
    }
   ],
   "source": [
    "1 - nan_share_china - nan_share_japan\n"
   ]
  },
  {
   "cell_type": "markdown",
   "id": "66340b56",
   "metadata": {},
   "source": [
    "## Define the core function of this notebook"
   ]
  },
  {
   "cell_type": "code",
   "execution_count": 26,
   "id": "2dcdc139",
   "metadata": {},
   "outputs": [],
   "source": [
    "# Version 13. Jan. 2022: Enhanced fractional counting (for technologies)\n",
    "\n",
    "def get_counts(data_to_function, use_tqdm, nat_intl_separation, count_inventors, technologies):\n",
    "    \n",
    "    if count_inventors:\n",
    "        data_to_function = data_to_function[data_to_function['invt_seq_nr'] > 0]\n",
    "    else:\n",
    "        data_to_function = data_to_function[data_to_function['applt_seq_nr'] > 0]\n",
    "        \n",
    "    ctry_codes_this = sorted(list(set(data_to_function['person_ctry_code'])))\n",
    "    \n",
    "    family_ids_this = pd.unique(data_to_function['docdb_family_id'])\n",
    "\n",
    "    family_id_ctry_codes = {}\n",
    "    family_id_coo_appln_auth = {}\n",
    "    \n",
    "    if technologies:\n",
    "        # Dictionary for the number of technologies each patent family is assignted to\n",
    "        family_id_num_technologies = {}\n",
    "    \n",
    "    # A wrapper function for turning tqdm on or off\n",
    "    def tqdm_wrapper(input_):\n",
    "        if use_tqdm:\n",
    "            return tqdm(input_)\n",
    "        else:\n",
    "            return input_\n",
    "\n",
    "    # Loop over family IDs and get all country codes of each family ID. Also delete unknown country code entries\n",
    "    # (country code = '  ')\n",
    "    for family_id in tqdm_wrapper(family_ids_this):\n",
    "        \n",
    "        data_this_family_id = data_to_function[data_to_function['docdb_family_id']==family_id]\n",
    "\n",
    "        ##########################################\n",
    "        # Change in this version (13. Jan. 2022) #\n",
    "        ##########################################\n",
    "        # Old code line:\n",
    "        #ctry_codes_this_family_id = list(set(data_this_family_id['person_ctry_code']))\n",
    "        # New in this version:\n",
    "        # Get the person_ctry_codes for each distinct (psn_name, person_ctry_code) pair\n",
    "        ctry_codes_this_family_id = list(\n",
    "            data_this_family_id[data_this_family_id['person_ctry_code'] != '  '][['psn_name', 'person_ctry_code']].groupby(\n",
    "                by = ['psn_name', 'person_ctry_code']\n",
    "            ).size().reset_index(name='Freq')['person_ctry_code']\n",
    "        )        \n",
    "        \n",
    "        # Not needed anymore\n",
    "        #try:\n",
    "        #    ctry_codes_this_family_id.remove('  ')\n",
    "        #except:\n",
    "        #    pass\n",
    "            \n",
    "        family_id_ctry_codes[family_id] = ctry_codes_this_family_id\n",
    "        \n",
    "        if technologies:\n",
    "            # Save the number of technologies this patent family is assignted to\n",
    "            num_technologies_this_family_id = list(set(data_this_family_id['technologies_one_hot_sum']))\n",
    "            \n",
    "            # Throw error if there is more than one distinct value\n",
    "            if len(num_technologies_this_family_id) > 1:\n",
    "                print('More than one one-hot-sum')\n",
    "                return\n",
    "            \n",
    "            family_id_num_technologies[family_id] = num_technologies_this_family_id[0]\n",
    "        \n",
    "    # Create a dictionary full of zeros\n",
    "    ctry_codes_counts = {}\n",
    "    for key_ in ctry_codes_this:\n",
    "        \n",
    "        ctry_codes_counts[key_] = 0\n",
    "        \n",
    "        if nat_intl_separation:\n",
    "            \n",
    "            key_intl_string = key_+'_intl'\n",
    "            ctry_codes_counts[key_intl_string] = 0\n",
    "        \n",
    "    # Loop over dictionary and increment its values to create the count\n",
    "    # Increment by 1/k, k being the number of distinct country codes for a given family ID\n",
    "    nat_int_counter = {'national':0,\n",
    "                       'international':0,\n",
    "                       'unknown':0}\n",
    "    for key_ in list(family_id_ctry_codes):\n",
    "\n",
    "        size_ = len(family_id_ctry_codes[key_])\n",
    "        \n",
    "        # New in this version (13. Jan. 2022). Need this for nat_intl_separation separation mode\n",
    "        num_distinct_ctry_codes_this_id = len(list(set(family_id_ctry_codes[key_])))\n",
    "        \n",
    "        # Get this patent family's number of technologies it is assignted to\n",
    "        if technologies:\n",
    "            l = family_id_num_technologies[key_]\n",
    "        else:\n",
    "            l = 1\n",
    "\n",
    "        if size_==0:\n",
    "\n",
    "            ctry_codes_counts['  '] += 1/l\n",
    "            \n",
    "            nat_int_counter['unknown'] += 1/l\n",
    "\n",
    "        else:\n",
    "            \n",
    "            if nat_intl_separation:\n",
    "                \n",
    "                # Changed in this version (13. Jan. 2022):\n",
    "                if num_distinct_ctry_codes_this_id == 1:\n",
    "                    \n",
    "                    ctry_codes_counts[family_id_ctry_codes[key_][0]] += 1/l\n",
    "                    \n",
    "                    nat_int_counter['national'] += 1/l\n",
    "                    \n",
    "                else:\n",
    "                    \n",
    "                    for item in family_id_ctry_codes[key_]:\n",
    "                        \n",
    "                        item_intl_string = item+'_intl'\n",
    "\n",
    "                        ctry_codes_counts[item_intl_string] += (1/size_)/l\n",
    "                        \n",
    "                    nat_int_counter['international'] += 1/l\n",
    "            \n",
    "            else:\n",
    "\n",
    "                for item in family_id_ctry_codes[key_]:\n",
    "\n",
    "                    ctry_codes_counts[item] += (1/size_)/l\n",
    "    \n",
    "    ctry_codes_counts_sorted = dict(sorted(ctry_codes_counts.items(), key=lambda x:x[1], reverse=True))\n",
    "\n",
    "    try:\n",
    "        known_percentage = (1 - (ctry_codes_counts['  '] / sum(ctry_codes_counts.values()))) * 100\n",
    "    except:\n",
    "        known_percentage = 100\n",
    "\n",
    "    if nat_intl_separation:\n",
    "        return family_id_ctry_codes, ctry_codes_counts_sorted, known_percentage, ctry_codes_this, nat_int_counter\n",
    "    \n",
    "    else:\n",
    "        return family_id_ctry_codes, ctry_codes_counts_sorted, known_percentage\n",
    "    "
   ]
  },
  {
   "cell_type": "markdown",
   "id": "4c2f4b60-e300-4921-8c15-c98d52f1949f",
   "metadata": {},
   "source": [
    "## Separation of patent families with applicants from only one country vs. international cooperations"
   ]
  },
  {
   "cell_type": "code",
   "execution_count": 27,
   "id": "2f529b1c",
   "metadata": {},
   "outputs": [],
   "source": [
    "def nat_int_prepare_df(nat_intl_dict, ctry_codes_list):\n",
    "    \n",
    "    dict_ = nat_intl_dict.copy()\n",
    "    list_ = ctry_codes_list.copy()\n",
    "    \n",
    "    dict_.pop('  ')\n",
    "    dict_.pop('  _intl')\n",
    "    list_.remove('  ')\n",
    "    \n",
    "    #####\n",
    "    \n",
    "    array_ = []\n",
    "\n",
    "    for key_ in list_:\n",
    "\n",
    "        key_intl_string = key_+'_intl'\n",
    "\n",
    "        if key_ in list(country_labels_dict):\n",
    "            country_name = country_labels_dict[key_]\n",
    "        else:\n",
    "            country_name = ctry_code_name_dict[key_]\n",
    "\n",
    "        row = [country_name, dict_[key_], dict_[key_intl_string]]\n",
    "\n",
    "        array_.append(row)\n",
    "        \n",
    "    #####\n",
    "    \n",
    "    num_countries_to_plot = 6\n",
    "\n",
    "    col_1 = 'Country'\n",
    "    col_2 = 'Patent families with national inventors only'\n",
    "    col_3 = 'Patent families with inventors from at least one other country'\n",
    "\n",
    "    nat_intl_df = pd.DataFrame(array_, index=None, columns = [col_1, col_2, col_3]).sort_values([col_2, col_3], ascending=True)\n",
    "    nat_intl_df = nat_intl_df[-num_countries_to_plot:]\n",
    "\n",
    "    #####\n",
    "    \n",
    "    col_4 = 'intl/(nat+intl)'\n",
    "    col_5 = 'nat+intl'\n",
    "\n",
    "    nat_intl_ratio_df = nat_intl_df.copy()\n",
    "    nat_intl_ratio_df[col_4] = nat_intl_ratio_df['Patent families with inventors from at least one other country'] / (nat_intl_ratio_df['Patent families with national inventors only'] + nat_intl_ratio_df['Patent families with inventors from at least one other country'])\n",
    "    nat_intl_ratio_df[col_5] = (nat_intl_ratio_df['Patent families with national inventors only'] + nat_intl_ratio_df['Patent families with inventors from at least one other country'])\n",
    "    nat_intl_ratio_df.sort_values([col_5], ascending=True, inplace = True)\n",
    "    \n",
    "    return nat_intl_ratio_df\n"
   ]
  },
  {
   "cell_type": "code",
   "execution_count": 28,
   "id": "418305ed",
   "metadata": {},
   "outputs": [],
   "source": [
    "def nat_int_plot(df, years):\n",
    "    \n",
    "    col_1 = 'Country'\n",
    "    col_2 = 'Patent families with national inventors only'\n",
    "    col_3 = 'Patent families with inventors from at least one other country'\n",
    "    col_4 = 'intl/(nat+intl)'\n",
    "    col_5 = 'nat+intl'\n",
    "    \n",
    "    x_label_string = 'Total number of battery patent families in '+str(min(years))+'-'+str(max(years))\n",
    "    #y_label_string = 'Country code'\n",
    "\n",
    "    nat_intl_counts_plot = px.bar(df,\n",
    "                                  y = \"Country\",\n",
    "                                  x=[col_2, col_3])\n",
    "    nat_intl_counts_plot.update_xaxes(title=x_label_string)\n",
    "\n",
    "    nat_intl_counts_plot.update_layout(\n",
    "        legend=dict(yanchor=\"bottom\",\n",
    "                    y=0.02,\n",
    "                    xanchor=\"right\",\n",
    "                    x=0.99,\n",
    "                    title=''))\n",
    "\n",
    "    for i in range(len(df)):\n",
    "        nat_intl_counts_plot.add_annotation(x = list(df[col_5])[i],\n",
    "                                            y = i,\n",
    "                                            text = str(round(list(df[col_4])[i]*100, 2))+'%',\n",
    "                                            showarrow = False,\n",
    "                                            xshift = 25)\n",
    "\n",
    "    nat_intl_counts_plot.show()\n",
    "\n",
    "    # Save this plot as eps\n",
    "    if only_granted:\n",
    "        filename = 'nat_intl_counts_only_granted'\n",
    "    else:\n",
    "        filename = 'nat_intl_counts_all_appln'\n",
    "\n",
    "    #image_saver(nat_intl_counts_plot, filename, True)\n",
    "    "
   ]
  },
  {
   "cell_type": "markdown",
   "id": "556fbd67",
   "metadata": {},
   "source": [
    "### Whole time period"
   ]
  },
  {
   "cell_type": "code",
   "execution_count": 29,
   "id": "7059aadb-30bd-4f2e-b83e-194be87755da",
   "metadata": {},
   "outputs": [
    {
     "data": {
      "application/vnd.jupyter.widget-view+json": {
       "model_id": "9357aec9eb2b45cc81d64e77d5a5a53a",
       "version_major": 2,
       "version_minor": 0
      },
      "text/plain": [
       "  0%|          | 0/92667 [00:00<?, ?it/s]"
      ]
     },
     "metadata": {},
     "output_type": "display_data"
    }
   ],
   "source": [
    "family_id_ctry_codes_whole_time_nat_intl, ctry_codes_counts_whole_time_nat_intl, known_percentage_whole_time_nat_intl, ctry_codes_whole_time, nat_int_counter_whole_time = get_counts(\n",
    "    data,\n",
    "    True,\n",
    "    True,\n",
    "    True,\n",
    "    False)\n"
   ]
  },
  {
   "cell_type": "markdown",
   "id": "1e6240a6",
   "metadata": {},
   "source": [
    "### Split in two time periods"
   ]
  },
  {
   "cell_type": "code",
   "execution_count": null,
   "id": "366b787f",
   "metadata": {},
   "outputs": [
    {
     "data": {
      "application/vnd.jupyter.widget-view+json": {
       "model_id": "d3c7005281384cfd931197f3de070bc1",
       "version_major": 2,
       "version_minor": 0
      },
      "text/plain": [
       "  0%|          | 0/39580 [00:00<?, ?it/s]"
      ]
     },
     "metadata": {},
     "output_type": "display_data"
    },
    {
     "data": {
      "application/vnd.jupyter.widget-view+json": {
       "model_id": "8aa44c97e6bc4c5faed3c64ab6841fa7",
       "version_major": 2,
       "version_minor": 0
      },
      "text/plain": [
       "  0%|          | 0/41949 [00:00<?, ?it/s]"
      ]
     },
     "metadata": {},
     "output_type": "display_data"
    }
   ],
   "source": [
    "years_nat_int_first_part = [2000, 2013]\n",
    "\n",
    "data_nat_int_first_part = data[\n",
    "    ((data['earliest_publn_year_this_family_id'] >= years_nat_int_first_part[0]) & (data['earliest_publn_year_this_family_id'] <= years_nat_int_first_part[1]))]\n",
    "\n",
    "family_id_ctry_codes_first_part_nat_intl, ctry_codes_counts_first_part_nat_intl, known_percentage_first_part_nat_intl, ctry_codes_first_part, nat_int_counter_first_part = get_counts(\n",
    "    data_nat_int_first_part,\n",
    "    True,\n",
    "    True,\n",
    "    True,\n",
    "    False)\n",
    "\n",
    "years_nat_int_second_part = [2014, 2018]\n",
    "\n",
    "data_nat_int_second_part = data[\n",
    "    ((data['earliest_publn_year_this_family_id'] >= years_nat_int_second_part[0]) & (data['earliest_publn_year_this_family_id'] <= years_nat_int_second_part[1]))\n",
    "]\n",
    "\n",
    "family_id_ctry_codes_second_part_nat_intl, ctry_codes_counts_second_part_nat_intl, known_percentage_second_part_nat_intl, ctry_codes_second_part, nat_int_counter_second_part = get_counts(\n",
    "    data_nat_int_second_part,\n",
    "    True,\n",
    "    True,\n",
    "    True,\n",
    "    False)\n"
   ]
  },
  {
   "cell_type": "code",
   "execution_count": null,
   "id": "78632415",
   "metadata": {},
   "outputs": [],
   "source": [
    "print(set(data_nat_int_first_part['earliest_publn_year_this_family_id']))\n"
   ]
  },
  {
   "cell_type": "code",
   "execution_count": null,
   "id": "667629f8",
   "metadata": {},
   "outputs": [],
   "source": [
    "print(set(data_nat_int_second_part['earliest_publn_year_this_family_id']))\n"
   ]
  },
  {
   "cell_type": "markdown",
   "id": "e92aa315",
   "metadata": {},
   "source": [
    "### Get the dataframes"
   ]
  },
  {
   "cell_type": "code",
   "execution_count": null,
   "id": "202d9885",
   "metadata": {},
   "outputs": [],
   "source": [
    "nat_intl_df_whole_whole_time = nat_int_prepare_df(ctry_codes_counts_whole_time_nat_intl,\n",
    "                                                  ctry_codes_whole_time)\n",
    "nat_intl_df_whole_whole_time\n"
   ]
  },
  {
   "cell_type": "code",
   "execution_count": null,
   "id": "64e78182",
   "metadata": {},
   "outputs": [],
   "source": [
    "nat_intl_df_whole_first_part = nat_int_prepare_df(ctry_codes_counts_first_part_nat_intl,\n",
    "                                                  ctry_codes_first_part)\n",
    "nat_intl_df_whole_first_part\n"
   ]
  },
  {
   "cell_type": "code",
   "execution_count": null,
   "id": "6f98048c",
   "metadata": {},
   "outputs": [],
   "source": [
    "nat_intl_df_whole_second_part = nat_int_prepare_df(ctry_codes_counts_second_part_nat_intl,\n",
    "                                                   ctry_codes_second_part)\n",
    "nat_intl_df_whole_second_part\n"
   ]
  },
  {
   "cell_type": "markdown",
   "id": "e99362cf",
   "metadata": {},
   "source": [
    "### Plot national/international counts"
   ]
  },
  {
   "cell_type": "code",
   "execution_count": null,
   "id": "73b6baf4",
   "metadata": {},
   "outputs": [],
   "source": [
    "nat_int_plot(nat_intl_df_whole_whole_time, years)\n"
   ]
  },
  {
   "cell_type": "code",
   "execution_count": null,
   "id": "5897e086",
   "metadata": {},
   "outputs": [],
   "source": [
    "nat_int_plot(nat_intl_df_whole_first_part, years_nat_int_first_part)\n"
   ]
  },
  {
   "cell_type": "code",
   "execution_count": null,
   "id": "715ee69d",
   "metadata": {},
   "outputs": [],
   "source": [
    "nat_int_plot(nat_intl_df_whole_second_part, years_nat_int_second_part)\n"
   ]
  },
  {
   "cell_type": "markdown",
   "id": "fb284865",
   "metadata": {},
   "source": [
    "### Grouped bar plot comparing percentages from first and second time periods"
   ]
  },
  {
   "cell_type": "code",
   "execution_count": null,
   "id": "d679d251",
   "metadata": {},
   "outputs": [],
   "source": [
    "colname_first_part = 'Share of co-inventions in '+str(min(years_nat_int_first_part))+'-'+str(max(years_nat_int_first_part))\n",
    "colname_second_part = 'Share of co-inventions in '+str(min(years_nat_int_second_part))+'-'+str(max(years_nat_int_second_part))\n",
    "\n",
    "comparison_df = pd.DataFrame.from_records(\n",
    "    [\n",
    "        dict(nat_intl_df_whole_first_part[['Country', 'intl/(nat+intl)']].values),\n",
    "        dict(nat_intl_df_whole_second_part[['Country', 'intl/(nat+intl)']].values)\n",
    "    ],\n",
    "    index = [\n",
    "        colname_first_part,\n",
    "        colname_second_part\n",
    "    ]\n",
    ")\n",
    "\n",
    "# Transpose and reverse row order\n",
    "comparison_df = comparison_df.transpose()[::-1]\n",
    "comparison_df\n"
   ]
  },
  {
   "cell_type": "code",
   "execution_count": null,
   "id": "be98c71d",
   "metadata": {},
   "outputs": [],
   "source": [
    "countries = list(comparison_df.index)\n",
    "\n",
    "cols = list(comparison_df)\n",
    "#cols.reverse()\n",
    "\n",
    "co_invention_ratio_data = []\n",
    "for col_ in cols:\n",
    "    co_invention_ratio_data.append(\n",
    "        go.Bar(name = col_,\n",
    "               y = countries,\n",
    "               x = list(comparison_df[col_]),\n",
    "               orientation='h')\n",
    "    )\n",
    "\n",
    "co_invention_ratio_layout = go.Layout(\n",
    "    \n",
    "    legend = dict(\n",
    "        orientation=\"h\",\n",
    "        yanchor=\"top\",\n",
    "        y = -0.07,\n",
    "        xanchor=\"left\",\n",
    "        x = 0,\n",
    "        #traceorder = 'reversed'\n",
    "    ),\n",
    "    \n",
    "    plot_bgcolor = \"white\",\n",
    "    \n",
    "    yaxis=dict(\n",
    "        #title = 'Country',\n",
    "        color = 'black',\n",
    "        showgrid = False,\n",
    "        #gridwidth = 1,\n",
    "        #gridcolor = 'black',\n",
    "        #type = \"log\",\n",
    "        dtick = 0.5\n",
    "    ),\n",
    "    \n",
    "    xaxis=dict(\n",
    "        #title = '%',\n",
    "        color = 'black',\n",
    "        showgrid = True,\n",
    "        gridwidth = 1,\n",
    "        gridcolor = 'black',\n",
    "        tickformat = '%'\n",
    "        #dtick = 1\n",
    "    )\n",
    ")\n",
    "    \n",
    "co_invention_ratio_plot = go.Figure(data = co_invention_ratio_data, layout = co_invention_ratio_layout)\n",
    "\n",
    "co_invention_ratio_plot.update_yaxes(autorange=\"reversed\")\n",
    "#co_invention_ratio_plot.update_legend(traceorder=\"reversed\")\n",
    "\n",
    "# Add annotations\n",
    "shift_dir = -1\n",
    "for col_ in list(comparison_df):\n",
    "    \n",
    "    shift_dir = shift_dir * (-1)\n",
    "    \n",
    "    for i in range(len(comparison_df)):\n",
    "        \n",
    "        co_invention_ratio_plot.add_annotation(x = list(comparison_df[col_])[i],\n",
    "                                               y = i,\n",
    "                                               text = str(round(list(comparison_df[col_])[i]*100, 1))+'%',\n",
    "                                               showarrow = False,\n",
    "                                               xshift = 25,\n",
    "                                               yshift = shift_dir * 10,\n",
    "                                               bgcolor = 'white',\n",
    "                                               #opacity=0.1\n",
    "                                              )\n",
    "    \n",
    "# Change the bar mode\n",
    "co_invention_ratio_plot.update_layout(barmode='group')\n",
    "co_invention_ratio_plot.show()\n",
    "\n",
    "#image_saver(co_invention_ratio_plot, 'co_invention_ratio_plot', True)\n"
   ]
  },
  {
   "cell_type": "markdown",
   "id": "foster-large",
   "metadata": {},
   "source": [
    "## Count patents for the whole time period"
   ]
  },
  {
   "cell_type": "code",
   "execution_count": null,
   "id": "9f74b601",
   "metadata": {},
   "outputs": [],
   "source": [
    "family_id_ctry_codes_whole_time, ctry_codes_counts_whole_time, known_percentage_whole_time = get_counts(data,\n",
    "                                                                                                        True,\n",
    "                                                                                                        False,\n",
    "                                                                                                        True,\n",
    "                                                                                                        False)\n",
    "\n",
    "#, ctry_codes, nat_int_counter\n"
   ]
  },
  {
   "cell_type": "code",
   "execution_count": null,
   "id": "4095220f-9ba3-4a88-926e-479609a7da75",
   "metadata": {},
   "outputs": [],
   "source": [
    "known_percentage_whole_time\n"
   ]
  },
  {
   "cell_type": "code",
   "execution_count": null,
   "id": "a0f28d11-7f93-4ec6-80a6-28d46a20b9b0",
   "metadata": {},
   "outputs": [],
   "source": [
    "#ctry_codes_counts_whole_time\n"
   ]
  },
  {
   "cell_type": "markdown",
   "id": "adapted-barbados",
   "metadata": {},
   "source": [
    "### Prepare plot for countries' total over the whole timespan"
   ]
  },
  {
   "cell_type": "code",
   "execution_count": null,
   "id": "threaded-church",
   "metadata": {},
   "outputs": [],
   "source": [
    "path = main_path_mac + '03 Extra data/PATSTAT reference tables/TLS801_COUNTRY.csv'\n",
    "continents_patstat = pd.read_csv(path, delimiter = ';').dropna().reset_index(drop=True)\n",
    "continents_patstat = continents_patstat[['ctry_code', 'continent']]\n",
    "continents_patstat\n"
   ]
  },
  {
   "cell_type": "code",
   "execution_count": null,
   "id": "south-colony",
   "metadata": {},
   "outputs": [],
   "source": [
    "ctry_code_continent_dict = {}\n",
    "\n",
    "for i in range(len(continents_patstat)):\n",
    "    \n",
    "    ctry_code_continent_dict[continents_patstat.loc[i,'ctry_code']] = continents_patstat.loc[i,'continent']\n",
    "    "
   ]
  },
  {
   "cell_type": "code",
   "execution_count": null,
   "id": "e4d3bd5d",
   "metadata": {},
   "outputs": [],
   "source": [
    "# Delete the counter for missing ctry_code values and create a sorted the dictionary with the other counters\n",
    "data_whole_timespan_plot = ctry_codes_counts_whole_time.copy()\n",
    "data_whole_timespan_plot.pop('  ')\n",
    "data_whole_timespan_plot = dict(sorted(data_whole_timespan_plot.items(), key=lambda x:x[1], reverse=False))\n"
   ]
  },
  {
   "cell_type": "code",
   "execution_count": null,
   "id": "northern-thompson",
   "metadata": {},
   "outputs": [],
   "source": [
    "# Save this data in order to use it in Co_occurences for size of country dots in network visualisation\n",
    "\n",
    "if False:\n",
    "    \n",
    "    # open file for writing, \"w\" is writing\n",
    "    if only_granted:\n",
    "        file_ = open(\"country_sizes_only_granted.csv\", \"w\")\n",
    "    else:\n",
    "        file_ = open(\"country_sizes_all_appln.csv\", \"w\")\n",
    "\n",
    "    # Create a csv writer\n",
    "    writer_ = csv.writer(file_)\n",
    "\n",
    "    # loop over dictionary keys and values\n",
    "    for key_, value_ in data_whole_timespan_plot.items():\n",
    "\n",
    "        # write every key and value to file\n",
    "        writer_.writerow([key_, value_])\n",
    "\n",
    "    # Close the file\n",
    "    file_.close()\n"
   ]
  },
  {
   "cell_type": "code",
   "execution_count": null,
   "id": "particular-confirmation",
   "metadata": {},
   "outputs": [],
   "source": [
    "number_countries = 8\n",
    "\n",
    "countries_written = [country_labels_dict[item] for item in list(data_whole_timespan_plot.keys())[-number_countries:]]\n",
    "continents = [ctry_code_continent_dict[item] for item in list(data_whole_timespan_plot.keys())[-number_countries:]]\n",
    "\n",
    "df_countries = pd.DataFrame(data=[list(data_whole_timespan_plot.values())[-number_countries:],\n",
    "                                  continents],\n",
    "                            columns=countries_written, index=['Count', 'Continent']).transpose().reset_index(drop=False)\n",
    "\n",
    "df_countries = df_countries.rename(columns={'index':'Country'})\n",
    "\n",
    "df_countries = df_countries.sort_values(by='Count', ascending=False)\n",
    "\n",
    "df_countries\n"
   ]
  },
  {
   "cell_type": "code",
   "execution_count": null,
   "id": "fc96ddb2",
   "metadata": {},
   "outputs": [],
   "source": [
    "top_countries_title = 'Top ' + str(number_countries) + ' countries of origin of battery patents, ' +str(min(years))+'-'+str(max(years))\n",
    "\n",
    "x_label_string = 'Total number of battery patent families in '+str(year_begin)+'-'+str(year_end)\n",
    "y_label_string = 'Country'\n",
    "\n",
    "top_countries_plot = px.bar(df_countries,\n",
    "                            x = 'Count', \n",
    "                            y = 'Country', \n",
    "                            color = 'Continent', \n",
    "                            orientation='h',\n",
    "                            labels = {'Count':x_label_string, 'Country':y_label_string}\n",
    "                           )\n",
    "\n",
    "top_countries_plot.update_layout(yaxis={'categoryorder':'total ascending'},\n",
    "                                 #title=top_countries_title\n",
    "                                )\n",
    "\n",
    "top_countries_plot.show()\n",
    "\n",
    "# Save this plot as eps\n",
    "if only_granted:\n",
    "    filename = 'totals_by_country_only_granted'\n",
    "else:\n",
    "    filename = 'totals_by_country_all_appln'\n",
    "    \n",
    "#image_saver(top_countries_plot, filename, True)\n",
    "\n",
    "top_countries_title\n"
   ]
  },
  {
   "cell_type": "markdown",
   "id": "french-times",
   "metadata": {
    "tags": []
   },
   "source": [
    "## Count patents for each year"
   ]
  },
  {
   "cell_type": "code",
   "execution_count": null,
   "id": "chemical-contemporary",
   "metadata": {},
   "outputs": [],
   "source": [
    "family_id_ctry_codes_list = []\n",
    "ctry_codes_counts_list = []\n",
    "known_percentage_list = []\n",
    "\n",
    "for year in years:\n",
    "    \n",
    "    print('Year', str(year))\n",
    "    \n",
    "    data_to_function = data[data['earliest_publn_year_this_family_id']==year]\n",
    "    \n",
    "    family_id_ctry_codes, ctry_codes_counts, known_percentage = get_counts(data_to_function,\n",
    "                                                                           True,\n",
    "                                                                           False,\n",
    "                                                                           True,\n",
    "                                                                           False)\n",
    "    \n",
    "    family_id_ctry_codes_list = family_id_ctry_codes_list + [family_id_ctry_codes]\n",
    "    ctry_codes_counts_list = ctry_codes_counts_list + [ctry_codes_counts]\n",
    "    known_percentage_list = known_percentage_list + [known_percentage]\n",
    "        "
   ]
  },
  {
   "cell_type": "code",
   "execution_count": null,
   "id": "vanilla-input",
   "metadata": {},
   "outputs": [],
   "source": [
    "print(known_percentage_list)\n"
   ]
  },
  {
   "cell_type": "code",
   "execution_count": null,
   "id": "5fd7a194",
   "metadata": {},
   "outputs": [],
   "source": [
    "df = pd.DataFrame.from_records(ctry_codes_counts_list)\n",
    "df.insert(loc=0, column='year', value=years)\n",
    "df.rename(columns={'  ':'unknown'}, inplace=True)\n",
    "df.fillna(0, inplace=True)\n",
    "df_with_unknowns = df\n",
    "#df\n"
   ]
  },
  {
   "cell_type": "code",
   "execution_count": null,
   "id": "confirmed-emergency",
   "metadata": {},
   "outputs": [],
   "source": [
    "# Save this result to csv\n",
    "#years_string = str(year_begin)+'-'+str(year_end)\n",
    "#filename = 'country_counts_yearly_'+years_string+'.csv'\n",
    "#df.to_csv(path_or_buf=filename, sep=';', index=False)\n"
   ]
  },
  {
   "cell_type": "markdown",
   "id": "found-mississippi",
   "metadata": {},
   "source": [
    "### Yearly totals plot"
   ]
  },
  {
   "cell_type": "code",
   "execution_count": null,
   "id": "heated-surveillance",
   "metadata": {},
   "outputs": [],
   "source": [
    "totals_series = df.drop(columns='year').sum(axis=1)\n",
    "totals_series\n"
   ]
  },
  {
   "cell_type": "code",
   "execution_count": null,
   "id": "61ad4c7e",
   "metadata": {},
   "outputs": [],
   "source": [
    "totals_df = pd.DataFrame()\n",
    "\n",
    "totals_df['year'] = years\n",
    "totals_df['count'] = totals_series\n",
    "\n",
    "totals_df.to_csv(path_or_buf= 'total_yearly_counts', sep=';', index=False)\n",
    "\n",
    "totals_df\n"
   ]
  },
  {
   "cell_type": "code",
   "execution_count": null,
   "id": "1faa7865",
   "metadata": {},
   "outputs": [],
   "source": [
    "cut = 2014\n",
    "\n",
    "totals_df_first_part = totals_df[totals_df['year'] <= cut]\n",
    "#totals_df_first_part\n",
    "\n",
    "totals_df_second_part = totals_df[totals_df['year'] > cut]\n",
    "#totals_df_second_part\n",
    "\n",
    "years_first_part = list(totals_df_first_part['year'])\n",
    "sum_first_part = totals_df_first_part['count'].sum()\n",
    "print(years_first_part)\n",
    "print(sum_first_part)\n",
    "print()\n",
    "\n",
    "years_second_part = list(totals_df_second_part['year'])\n",
    "sum_second_part = totals_df_second_part['count'].sum()\n",
    "print(years_second_part)\n",
    "print(sum_second_part)\n"
   ]
  },
  {
   "cell_type": "code",
   "execution_count": null,
   "id": "desirable-express",
   "metadata": {},
   "outputs": [],
   "source": [
    "totals_data = [dict(type='bar',\n",
    "                        x=years,\n",
    "                        y=totals_series\n",
    "                       )]\n"
   ]
  },
  {
   "cell_type": "code",
   "execution_count": null,
   "id": "34f46af9",
   "metadata": {},
   "outputs": [],
   "source": [
    "# Compute mean increase year-over-year\n",
    "\n",
    "increase = []\n",
    "\n",
    "for i in range(1,len(totals_series)):\n",
    "    \n",
    "    increase_this_year = (totals_series[i] - totals_series[i-1]) / totals_series[i-1]\n",
    "    print(increase_this_year)\n",
    "    increase.append(increase_this_year)\n",
    "    \n",
    "sum(increase) / len(increase)\n"
   ]
  },
  {
   "cell_type": "code",
   "execution_count": null,
   "id": "weekly-psychology",
   "metadata": {},
   "outputs": [],
   "source": [
    "totals_title = 'Global development of the number of battery patent families, '+str(min(years))+'-'+str(max(years))\n",
    "\n",
    "totals_layout =dict(#title=dict(text = totals_title),\n",
    "                    yaxis=dict(title='Number of battery patent families'),\n",
    "                    xaxis=dict(title='Year'),\n",
    "                          legend = dict(\n",
    "                            xanchor=\"center\",\n",
    "                            yanchor=\"top\",\n",
    "                            y=-0.18, \n",
    "                            x=0.5   \n",
    "                          )\n",
    "                )\n"
   ]
  },
  {
   "cell_type": "code",
   "execution_count": null,
   "id": "vietnamese-circus",
   "metadata": {},
   "outputs": [],
   "source": [
    "totals_plot = go.Figure(data = totals_data, layout=totals_layout)\n",
    "           \n",
    "totals_plot.update_xaxes(dtick=1)\n",
    "\n",
    "totals_plot.show()\n",
    "\n",
    "# Save this plot as eps\n",
    "if only_granted:\n",
    "    filename = 'development_global_only_granted'\n",
    "else:\n",
    "    filename = 'development_global_all_appln'\n",
    "    \n",
    "#image_saver(totals_plot, filename, True)\n",
    "\n",
    "totals_title\n"
   ]
  },
  {
   "cell_type": "markdown",
   "id": "united-lyric",
   "metadata": {},
   "source": [
    "### Yearly, by country plot"
   ]
  },
  {
   "cell_type": "code",
   "execution_count": null,
   "id": "finnish-ordinary",
   "metadata": {},
   "outputs": [],
   "source": [
    "df.drop(columns='unknown', inplace=True)\n",
    "df\n"
   ]
  },
  {
   "cell_type": "code",
   "execution_count": null,
   "id": "sophisticated-receipt",
   "metadata": {},
   "outputs": [],
   "source": [
    "# Get the labels of the countries with the highest totals\n",
    "number_of_countries = 8\n",
    "highest_total_labels = list(df.drop(columns='year').sum().sort_values(ascending=False).index[0:number_of_countries])\n",
    "highest_total_labels\n"
   ]
  },
  {
   "cell_type": "code",
   "execution_count": null,
   "id": "charitable-aspect",
   "metadata": {},
   "outputs": [],
   "source": [
    "for i, country in enumerate(highest_total_labels):\n",
    "    \n",
    "    x = df['year']\n",
    "    y = df[country]\n",
    "    country_name = country_labels_dict[country]\n",
    "    #print(country)\n",
    "    \n",
    "    line_width = 3\n",
    "    \n",
    "    if True:\n",
    "        if i == 0:\n",
    "            person_ctry_code_data = [dict(type = 'scatter',\n",
    "                                          x = x,\n",
    "                                          y = y,\n",
    "                                          name = country_name,\n",
    "                                          line_width = line_width\n",
    "                                         )\n",
    "                                    ]\n",
    "        else:\n",
    "            if True:\n",
    "                person_ctry_code_data.append(dict(type = 'scatter',\n",
    "                                                  x = x,\n",
    "                                                  y = y,\n",
    "                                                  name = country_name,\n",
    "                                                  line_width = line_width\n",
    "                                                 )\n",
    "                                            )\n",
    "                "
   ]
  },
  {
   "cell_type": "code",
   "execution_count": null,
   "id": "coupled-damage",
   "metadata": {},
   "outputs": [],
   "source": [
    "person_ctry_code_title = \"Development of the absolute number of battery IPFs:<br>Counted by inventors' countries of origin, \"+str(min(years))+'-'+str(max(years))\n",
    "\n",
    "person_ctry_code_layout =dict(\n",
    "    title=dict(\n",
    "        text = person_ctry_code_title,\n",
    "        y = 0.9,\n",
    "        x = 0.5,\n",
    "        xanchor = 'center',\n",
    "        yanchor = 'top',\n",
    "        font = dict(color = 'black')\n",
    "    ),\n",
    "    yaxis = dict(\n",
    "        color = 'black',\n",
    "        title = 'Number of IPFs',\n",
    "        showgrid = True,\n",
    "        gridwidth = 1,\n",
    "        gridcolor = 'black',\n",
    "        zerolinecolor = 'black',\n",
    "        zerolinewidth = 1\n",
    "    ),\n",
    "    xaxis = dict(\n",
    "        color = 'black',\n",
    "        title='Year',\n",
    "        dtick = 1\n",
    "    ),\n",
    "    legend = dict(\n",
    "        xanchor = \"left\",\n",
    "        yanchor = \"middle\",\n",
    "        y = 0.5, \n",
    "        x = 1,\n",
    "        orientation = \"v\"\n",
    "    ),\n",
    "    plot_bgcolor = 'white'\n",
    ")\n"
   ]
  },
  {
   "cell_type": "code",
   "execution_count": null,
   "id": "fd488b12",
   "metadata": {},
   "outputs": [],
   "source": [
    "person_ctry_code_plot = go.Figure(data = person_ctry_code_data, layout=person_ctry_code_layout)\n",
    "\n",
    "#person_ctry_code_plot.update_yaxes(type=\"log\",\n",
    "#                            dtick=1)\n",
    "           \n",
    "person_ctry_code_plot.update_xaxes(dtick=1)\n",
    "\n",
    "person_ctry_code_plot.show()\n",
    "\n",
    "# Save this plot as eps\n",
    "if only_granted:\n",
    "    filename = 'development_by_country_only_granted'\n",
    "else:\n",
    "    filename = 'development_by_country_all_appln'\n",
    "\n",
    "image_saver(person_ctry_code_plot, filename, True)\n",
    "\n",
    "person_ctry_code_title\n"
   ]
  },
  {
   "cell_type": "markdown",
   "id": "sonic-canberra",
   "metadata": {},
   "source": [
    "### China's share plot"
   ]
  },
  {
   "cell_type": "code",
   "execution_count": null,
   "id": "subsequent-carol",
   "metadata": {},
   "outputs": [],
   "source": [
    "china = df_with_unknowns['CN']\n",
    "all_ = df_with_unknowns.drop(columns=['year'])\n",
    "chinas_share = (china / all_.sum(axis=1)) * 100\n"
   ]
  },
  {
   "cell_type": "code",
   "execution_count": null,
   "id": "confused-special",
   "metadata": {},
   "outputs": [],
   "source": [
    "china_share_data = [dict(type='scatter',\n",
    "                        x=df_with_unknowns['year'],\n",
    "                        y=chinas_share,\n",
    "                        name=\"China's share of the number of battery patent families\"+str(min(years))+'-'+str(max(years))\n",
    "                       )]\n"
   ]
  },
  {
   "cell_type": "code",
   "execution_count": null,
   "id": "blessed-combining",
   "metadata": {},
   "outputs": [],
   "source": [
    "chinas_share_title = \"Development of China's share of the number of battery patent families, \"+str(min(years))+'-'+str(max(years))\n",
    "\n",
    "china_share_layout =dict(#title=dict(text = chinas_share_title),\n",
    "                 yaxis=dict(title=\"China's share [%]\"),\n",
    "                 xaxis=dict(title='Year'),\n",
    "                          legend = dict(\n",
    "                            xanchor=\"center\",\n",
    "                            yanchor=\"top\",\n",
    "                            y=-0.18, \n",
    "                            x=0.5   \n",
    "                          )\n",
    "                )\n"
   ]
  },
  {
   "cell_type": "code",
   "execution_count": null,
   "id": "inclusive-mother",
   "metadata": {},
   "outputs": [],
   "source": [
    "china_share_plot = go.Figure(data = china_share_data, layout=china_share_layout)\n",
    "           \n",
    "china_share_plot.show()\n",
    "\n",
    "# Save this plot as eps\n",
    "if only_granted:\n",
    "    filename = 'chinas_share_only_granted'\n",
    "else:\n",
    "    filename = 'chinas_share_all_appln'\n",
    "\n",
    "#image_saver(china_share_plot, filename, True)\n",
    "\n",
    "chinas_share_title\n"
   ]
  },
  {
   "cell_type": "markdown",
   "id": "consecutive-phrase",
   "metadata": {},
   "source": [
    "### Herfindahl–Hirschman index plot\n",
    "\n",
    "https://en.wikipedia.org/wiki/Herfindahl%E2%80%93Hirschman_Index"
   ]
  },
  {
   "cell_type": "code",
   "execution_count": null,
   "id": "former-lindsay",
   "metadata": {},
   "outputs": [],
   "source": [
    "countries_shares_list = []\n",
    "\n",
    "for country in list(all_):\n",
    "    \n",
    "    country_counts = df_with_unknowns[country]\n",
    "    \n",
    "    country_shares = (country_counts / all_.sum(axis=1)) * 100\n",
    "    \n",
    "    countries_shares_list.append(country_shares)\n",
    "    \n",
    "countries_shares_df = pd.concat(countries_shares_list, axis=1)\n",
    "\n",
    "#countries_shares_df\n"
   ]
  },
  {
   "cell_type": "code",
   "execution_count": null,
   "id": "protecting-election",
   "metadata": {},
   "outputs": [],
   "source": [
    "# Compute Herfindahl–Hirschman Index for each year\n",
    "\n",
    "hh_indices_list = []\n",
    "\n",
    "for i in range(len(countries_shares_df)):\n",
    "        \n",
    "    shares_list = countries_shares_df.iloc[i,:]\n",
    "    \n",
    "    hh_index = 0\n",
    "    \n",
    "    for item in shares_list:\n",
    "        \n",
    "        hh_index += item**2\n",
    "                \n",
    "    hh_indices_list.append(hh_index)\n",
    "    \n",
    "#hh_indices_list\n"
   ]
  },
  {
   "cell_type": "code",
   "execution_count": null,
   "id": "interracial-range",
   "metadata": {},
   "outputs": [],
   "source": [
    "herfindahl_data = [dict(type='scatter',\n",
    "                        x=df_with_unknowns['year'],\n",
    "                        y=hh_indices_list\n",
    "                       )]\n"
   ]
  },
  {
   "cell_type": "code",
   "execution_count": null,
   "id": "enormous-london",
   "metadata": {},
   "outputs": [],
   "source": [
    "herfindahl_title = \"Development of the Herfindahl–Hirschman Index (by countries), \"+str(min(years))+'-'+str(max(years))\n",
    "\n",
    "herfindahl_layout =dict(#title=dict(text = herfindahl_title),\n",
    "                 yaxis=dict(title=\"Herfindahl–Hirschman Index\"),\n",
    "                 xaxis=dict(title='Year'),\n",
    "                          legend = dict(\n",
    "                            xanchor=\"center\",\n",
    "                            yanchor=\"top\",\n",
    "                            y=-0.18, \n",
    "                            x=0.5   \n",
    "                          )\n",
    "                       )\n"
   ]
  },
  {
   "cell_type": "code",
   "execution_count": null,
   "id": "nearby-harvey",
   "metadata": {},
   "outputs": [],
   "source": [
    "herfindahl_plot = go.Figure(data = herfindahl_data, layout=herfindahl_layout)\n",
    "           \n",
    "herfindahl_plot.show()\n",
    "\n",
    "# Save this plot as eps\n",
    "if only_granted:\n",
    "    filename = 'Herfindahl_Hirschman_index_only_granted'\n",
    "else:\n",
    "    filename = 'Herfindahl_Hirschman_index_all_appln'\n",
    "\n",
    "#image_saver(herfindahl_plot, filename, True)\n",
    "\n",
    "herfindahl_title\n"
   ]
  },
  {
   "cell_type": "markdown",
   "id": "historic-kennedy",
   "metadata": {},
   "source": [
    "### Per labor force plot"
   ]
  },
  {
   "cell_type": "code",
   "execution_count": null,
   "id": "appointed-crowd",
   "metadata": {},
   "outputs": [],
   "source": [
    "if False:\n",
    "    \n",
    "    path = main_path_mac + '03 Analysis/01 Country counts/WPP2019_TotalPopulationBySex.csv'\n",
    "    populations = pd.read_csv(path, delimiter = ',')\n",
    "\n",
    "    # Note: Values are in one thousand inhabitants!\n",
    "\n",
    "\n",
    "    pop_dict = {}\n",
    "    for country in highest_total_labels:\n",
    "        country_name = ctry_code_name_dict_UN[country]\n",
    "        population = (populations[(populations['Location'] == country_name) & (populations['Time'] >= min(years)) & (populations['Time'] <= max(years))]['PopTotal']).values\n",
    "        pop_dict[country_name] = population\n",
    "\n",
    "    #pop_dict\n",
    "    # Note: Values are in one thousand inhabitants!\n",
    "    "
   ]
  },
  {
   "cell_type": "markdown",
   "id": "1cbca307",
   "metadata": {},
   "source": [
    "#### Create a labor force dict"
   ]
  },
  {
   "cell_type": "code",
   "execution_count": null,
   "id": "810a9831",
   "metadata": {},
   "outputs": [],
   "source": [
    "path = main_path_mac + '03 Extra data/Worldbank - Labor force, total/API_SL.TLF.TOTL.IN_DS2_en_csv_v2_3471351/API_SL.TLF.TOTL.IN_DS2_en_csv_v2_3471351.csv'\n",
    "labor_force = pd.read_csv(path, delimiter = ',')\n",
    "\n",
    "#labor_force\n",
    "\n",
    "# Note: Values are NOT in one thousand inhabitants! They are one to one.\n"
   ]
  },
  {
   "cell_type": "code",
   "execution_count": null,
   "id": "729073db",
   "metadata": {},
   "outputs": [],
   "source": [
    "# Get our year as strings\n",
    "\n",
    "years_strings = []\n",
    "for year in range(min(years), max(years)+1):\n",
    "    \n",
    "    years_strings.append(str(year))\n",
    "    \n",
    "#years_strings\n"
   ]
  },
  {
   "cell_type": "code",
   "execution_count": null,
   "id": "4c229348",
   "metadata": {},
   "outputs": [],
   "source": [
    "# Save values in a dict and divide them by 1000\n",
    "\n",
    "labor_force_dict = {}\n",
    "for i in range(len(labor_force)):\n",
    "    \n",
    "    labor_force_this_country = labor_force.iloc[i,:]\n",
    "    \n",
    "    name = labor_force_this_country['Country Name']\n",
    "    labor_force_values = labor_force_this_country[years_strings]\n",
    "    \n",
    "    labor_force_dict[name] = labor_force_values.values / 1000\n",
    "    \n",
    "#labor_force_dict\n"
   ]
  },
  {
   "cell_type": "code",
   "execution_count": null,
   "id": "31d37054",
   "metadata": {},
   "outputs": [],
   "source": [
    "# Taiwan (no data at world bank):\n",
    "\n",
    "# This is copy-pasted from taiwan_labor_force from (https://eng.stat.gov.tw/ct.asp?xItem=42761&ctNode=1609&mp=5):\n",
    "\n",
    "labor_force_taiwan = np.array(\n",
    "    [\n",
    "        9784,\n",
    "        9832,\n",
    "        9969,\n",
    "        10076,\n",
    "        10240,\n",
    "        10371,\n",
    "        10522,\n",
    "        10713,\n",
    "        10853,\n",
    "        10917,\n",
    "        11070,\n",
    "        11200,\n",
    "        11341,\n",
    "        11445,\n",
    "        11535,\n",
    "        11638,\n",
    "        11727,\n",
    "        11795,\n",
    "        11874,\n",
    "        11946\n",
    "    ]\n",
    ")\n",
    "\n",
    "print(len(labor_force_taiwan))\n",
    "\n",
    "labor_force_dict['Chinese Taipei'] = labor_force_taiwan\n"
   ]
  },
  {
   "cell_type": "code",
   "execution_count": null,
   "id": "7c5cdffb",
   "metadata": {},
   "outputs": [],
   "source": [
    "pop_dict = {}\n",
    "for country in highest_total_labels:\n",
    "    \n",
    "    country_name = ctry_code_name_dict_world_bank[country]\n",
    "    \n",
    "    pop_dict[country_name] = labor_force_dict[country_name]\n",
    "    \n",
    "#pop_dict\n"
   ]
  },
  {
   "cell_type": "code",
   "execution_count": null,
   "id": "outdoor-hayes",
   "metadata": {},
   "outputs": [],
   "source": [
    "for i, country in enumerate(highest_total_labels):\n",
    "    \n",
    "    country_name = country_labels_dict[country]\n",
    "    #country_name_UN = ctry_code_name_dict_UN[country]\n",
    "    country_name_UN = ctry_code_name_dict_world_bank[country]\n",
    "\n",
    "    x = df['year']\n",
    "    y = (df[highest_total_labels[i]] / pop_dict[country_name_UN])  * (10**3)\n",
    "    \n",
    "    if country == 'CN':\n",
    "        count_per_1M_CN = y\n",
    "    \n",
    "    #print(country)\n",
    "    \n",
    "    if True:\n",
    "        if i == 0:\n",
    "            person_ctry_code_pop_data = [dict(type='scatter',\n",
    "                                x=x,\n",
    "                                y=y,\n",
    "                                name=country_name\n",
    "                               )]\n",
    "        else:\n",
    "            if True:\n",
    "                person_ctry_code_pop_data.append(dict(type='scatter',\n",
    "                                    x=x,\n",
    "                                    y=y,\n",
    "                                    name=country_name\n",
    "                                   ))\n"
   ]
  },
  {
   "cell_type": "markdown",
   "id": "9f8641a7",
   "metadata": {},
   "source": [
    "#### Side research: Compute mean increase year-over-year for China"
   ]
  },
  {
   "cell_type": "code",
   "execution_count": null,
   "id": "1216e633",
   "metadata": {},
   "outputs": [],
   "source": [
    "\n",
    "increase_CN = []\n",
    "\n",
    "for i in range(1,len(count_per_1M_CN)):\n",
    "    \n",
    "    increase_this_year = (count_per_1M_CN[i] - count_per_1M_CN[i-1]) / count_per_1M_CN[i-1]\n",
    "    print(increase_this_year)\n",
    "    increase_CN.append(increase_this_year)\n",
    "    \n",
    "sum(increase_CN) / len(increase_CN)\n"
   ]
  },
  {
   "cell_type": "code",
   "execution_count": null,
   "id": "complicated-bouquet",
   "metadata": {},
   "outputs": [],
   "source": [
    "#person_ctry_code_pop_title = \"Development of the number of battery patent families per population size by countries of origin, \" +str(min(years))+'-'+str(max(years))\n",
    "person_ctry_code_pop_title = \"Development of the number of battery patent families per 1M workers by countries of origin of the inventors, \" +str(min(years))+'-'+str(max(years))\n",
    "\n",
    "person_ctry_code_pop_layout =dict(#title=dict(text =  person_ctry_code_pop_title),\n",
    "                                  yaxis=dict(title='Number of battery patent families per 1M workers'),\n",
    "                                  xaxis=dict(title='Year'),\n",
    "                                  legend = dict(\n",
    "                                      xanchor=\"left\",\n",
    "                                      yanchor=\"middle\",\n",
    "                                      y=0.5, \n",
    "                                      x=1,\n",
    "                                      orientation=\"v\")\n",
    "                                 )\n"
   ]
  },
  {
   "cell_type": "code",
   "execution_count": null,
   "id": "multiple-evidence",
   "metadata": {},
   "outputs": [],
   "source": [
    "person_ctry_pop_plot = go.Figure(data = person_ctry_code_pop_data, layout=person_ctry_code_pop_layout)\n",
    "           \n",
    "person_ctry_pop_plot.show()\n",
    "\n",
    "# Save this plot as eps\n",
    "if only_granted:\n",
    "    filename = 'per_pop_size_all_only_granted'\n",
    "else:\n",
    "    filename = 'per_pop_size_all_all_appln'\n",
    "    \n",
    "#image_saver(person_ctry_pop_plot, filename, True)\n",
    "\n",
    "person_ctry_code_pop_title\n"
   ]
  },
  {
   "cell_type": "markdown",
   "id": "be0d4f3c",
   "metadata": {},
   "source": [
    "### Per labor force plot with logarithmic scale"
   ]
  },
  {
   "cell_type": "code",
   "execution_count": null,
   "id": "79baafc6",
   "metadata": {},
   "outputs": [],
   "source": [
    "person_ctry_code_pop_title_for_log = \"Development of the number of battery patent families per population size by countries of origin of the inventors, \"+str(min(years))+'-'+str(max(years))+'; the y-axis is log-scaled.'\n",
    "\n",
    "person_ctry_pop_plot_log = go.Figure(data = person_ctry_code_pop_data, layout=person_ctry_code_pop_layout)\n",
    "\n",
    "person_ctry_pop_plot_log.update_yaxes(type=\"log\",\n",
    "dtick=1)\n",
    "           \n",
    "person_ctry_pop_plot_log.show()\n",
    "\n",
    "# Save this plot as eps\n",
    "if only_granted:\n",
    "    filename = 'per_pop_size_all_log_only_granted'\n",
    "else:\n",
    "    filename = 'per_pop_size_all_log_all_appln'\n",
    "    \n",
    "#image_saver(person_ctry_pop_plot_log, filename, True)\n",
    "\n",
    "person_ctry_code_pop_title_for_log\n"
   ]
  },
  {
   "cell_type": "markdown",
   "id": "legitimate-poultry",
   "metadata": {},
   "source": [
    "### Per labor force plot - a close-up that excludes South Korea and Japan"
   ]
  },
  {
   "cell_type": "code",
   "execution_count": null,
   "id": "necessary-omaha",
   "metadata": {},
   "outputs": [],
   "source": [
    "highest_total_labels_reduced = ['CN', 'US', 'DE', 'TW']\n"
   ]
  },
  {
   "cell_type": "code",
   "execution_count": null,
   "id": "pretty-shark",
   "metadata": {},
   "outputs": [],
   "source": [
    "person_ctry_code_pop_data_reduced = []\n",
    "\n",
    "for item in person_ctry_code_pop_data:\n",
    "    \n",
    "    if not item['name'] in ['South Korea', 'Japan']:\n",
    "        \n",
    "        person_ctry_code_pop_data_reduced.append(item)\n",
    "        \n",
    "#person_ctry_code_pop_data_reduced\n"
   ]
  },
  {
   "cell_type": "code",
   "execution_count": null,
   "id": "exotic-relation",
   "metadata": {},
   "outputs": [],
   "source": [
    "person_ctry_pop_reduced_plot = go.Figure(data = person_ctry_code_pop_data_reduced, layout=person_ctry_code_pop_layout)\n",
    "           \n",
    "person_ctry_pop_reduced_plot.show()\n",
    "\n",
    "# Save this plot as eps\n",
    "if only_granted:\n",
    "    filename = 'per_pop_size_without_jp_sk_only_granted'\n",
    "else:\n",
    "    filename = 'per_pop_size_without_jp_sk_all_appln'\n",
    "    \n",
    "#image_saver(person_ctry_pop_reduced_plot, filename, True)\n",
    "\n",
    "person_ctry_code_pop_title\n"
   ]
  },
  {
   "cell_type": "markdown",
   "id": "civic-recipient",
   "metadata": {},
   "source": [
    "### Continents plot"
   ]
  },
  {
   "cell_type": "code",
   "execution_count": null,
   "id": "matched-sunset",
   "metadata": {},
   "outputs": [],
   "source": [
    "df_continents = df.copy()\n",
    "#df_continents.drop(columns=['NC', 'EA', 'YR'], inplace=True)\n",
    "df_continents.drop(columns=['NC', 'MH'], inplace=True)\n"
   ]
  },
  {
   "cell_type": "code",
   "execution_count": null,
   "id": "identical-absence",
   "metadata": {},
   "outputs": [],
   "source": [
    "ctry_code_continent_dict['PR'] = 'North America'\n",
    "ctry_code_continent_dict['UK'] = 'Europe'\n",
    "ctry_code_continent_dict['RE'] = '  '\n",
    "ctry_code_continent_dict['GF'] = 'South America'\n",
    "ctry_code_continent_dict['NA'] = 'Africa'\n"
   ]
  },
  {
   "cell_type": "code",
   "execution_count": null,
   "id": "changing-gnome",
   "metadata": {},
   "outputs": [],
   "source": [
    "df_continents = df_continents.set_index('year').transpose()\n",
    "df_continents.index.rename('country', inplace=True)\n"
   ]
  },
  {
   "cell_type": "code",
   "execution_count": null,
   "id": "pleasant-comparison",
   "metadata": {},
   "outputs": [],
   "source": [
    "continents_list = []\n",
    "\n",
    "for item in df_continents.index:\n",
    "    \n",
    "    continents_list.append(ctry_code_continent_dict[item])\n",
    "    "
   ]
  },
  {
   "cell_type": "code",
   "execution_count": null,
   "id": "insured-sarah",
   "metadata": {},
   "outputs": [],
   "source": [
    "df_continents['Continent'] = continents_list\n"
   ]
  },
  {
   "cell_type": "code",
   "execution_count": null,
   "id": "exotic-crime",
   "metadata": {},
   "outputs": [],
   "source": [
    "df_continents[df_continents['Continent']=='Europe/Asia']\n"
   ]
  },
  {
   "cell_type": "code",
   "execution_count": null,
   "id": "funny-airfare",
   "metadata": {},
   "outputs": [],
   "source": [
    "df_continents_grouped = df_continents.groupby(by='Continent').sum()\n",
    "df_continents_grouped = df_continents_grouped.transpose()\n",
    "df_continents_grouped.reset_index(drop=False, inplace=True)\n",
    "df_continents_grouped.rename(columns={'Europe/Asia':'Europe/Asia *'}, inplace=True)\n",
    "#df_continents_grouped\n"
   ]
  },
  {
   "cell_type": "code",
   "execution_count": null,
   "id": "e618a589",
   "metadata": {},
   "outputs": [],
   "source": [
    "continents = list(df_continents_grouped)\n",
    "continents.remove('year')\n",
    "continents\n"
   ]
  },
  {
   "cell_type": "code",
   "execution_count": null,
   "id": "4e8b4f6f",
   "metadata": {
    "scrolled": true
   },
   "outputs": [],
   "source": [
    "#df_continents_grouped\n"
   ]
  },
  {
   "cell_type": "code",
   "execution_count": null,
   "id": "f37db767",
   "metadata": {},
   "outputs": [],
   "source": [
    "# Increment every value by 1 in order to facilitate logarithmic plotting\n",
    "\n",
    "for continent in continents:\n",
    "    \n",
    "    df_continents_grouped[continent] = df_continents_grouped[continent].values + 1\n",
    "    "
   ]
  },
  {
   "cell_type": "code",
   "execution_count": null,
   "id": "aa6d76d0",
   "metadata": {},
   "outputs": [],
   "source": [
    "df_continents_grouped\n"
   ]
  },
  {
   "cell_type": "code",
   "execution_count": null,
   "id": "b7b580db",
   "metadata": {},
   "outputs": [],
   "source": [
    "continents_averages = df_continents_grouped.sum(axis = 0) / len(df_continents_grouped)\n",
    "continents_averages\n"
   ]
  },
  {
   "cell_type": "code",
   "execution_count": null,
   "id": "7f154da5",
   "metadata": {},
   "outputs": [],
   "source": [
    "# Asia's average x times higher than Europe's / North America's\n",
    "\n",
    "print(round((continents_averages['Asia'] / continents_averages['Europe']), 2))\n",
    "\n",
    "print(round((continents_averages['Asia'] / continents_averages['North America']), 2))\n"
   ]
  },
  {
   "cell_type": "code",
   "execution_count": null,
   "id": "7ecf691a",
   "metadata": {},
   "outputs": [],
   "source": [
    "# Compute mean year-over-year increase \n",
    "\n",
    "to_compute_for = 'Europe'\n",
    "\n",
    "col_ = df_continents_grouped[to_compute_for]\n",
    "\n",
    "increase = []\n",
    "for i in range(1,len(col_)):\n",
    "    \n",
    "    increase_this_year = (col_[i] - col_[i-1]) / col_[i-1]\n",
    "    print(increase_this_year)\n",
    "    increase.append(increase_this_year)\n",
    "    \n",
    "round((sum(increase) / len(increase)), 4)\n"
   ]
  },
  {
   "cell_type": "code",
   "execution_count": null,
   "id": "61d52579",
   "metadata": {},
   "outputs": [],
   "source": [
    "#df_continents_grouped.drop('  ', axis = 1, inplace = True)\n"
   ]
  },
  {
   "cell_type": "code",
   "execution_count": null,
   "id": "90c29d76",
   "metadata": {},
   "outputs": [],
   "source": [
    "#df_continents_grouped"
   ]
  },
  {
   "cell_type": "code",
   "execution_count": null,
   "id": "looking-peeing",
   "metadata": {},
   "outputs": [],
   "source": [
    "for i, continent in enumerate(list(df_continents_grouped)[1:]):\n",
    "    x = df_continents_grouped['year']\n",
    "    y = df_continents_grouped[continent]\n",
    "    #country = country_labels_dict[highest_total_labels[i]]\n",
    "    #print(country)\n",
    "    \n",
    "    if True:\n",
    "        if i == 0:\n",
    "            continent_data = [dict(type='scatter',\n",
    "                                   x=x,\n",
    "                                   y=y,\n",
    "                                   name=continent,\n",
    "                                   line_width = line_width\n",
    "                                  )\n",
    "                             ]\n",
    "        else:\n",
    "            if True:\n",
    "                continent_data.append(dict(type='scatter',\n",
    "                                           x=x,\n",
    "                                           y=y,\n",
    "                                           name=continent,\n",
    "                                           line_width = line_width\n",
    "                                          )\n",
    "                                     )\n",
    "     "
   ]
  },
  {
   "cell_type": "code",
   "execution_count": null,
   "id": "legendary-gibson",
   "metadata": {},
   "outputs": [],
   "source": [
    "continent_title = \"Development of the number of battery IPFs:<br>Counted by inventors' continents of origin, \"+str(min(years))+'-'+str(max(years))+ '<br>The y-axis is log-scaled and all values are incremented by 1'\n",
    "\n",
    "\n",
    "\n",
    "continent_layout =dict(\n",
    "    title=dict(\n",
    "        text = continent_title,\n",
    "        y = 0.95,\n",
    "        x = 0.5,\n",
    "        xanchor = 'center',\n",
    "        yanchor = 'top',\n",
    "        font = dict(color = 'black')\n",
    "    ),\n",
    "    yaxis = dict(\n",
    "        color = 'black',\n",
    "        title = '1 + Number of IPFs',\n",
    "        showgrid = True,\n",
    "        gridwidth = 1,\n",
    "        gridcolor = 'black',\n",
    "        zerolinecolor = 'black',\n",
    "        zerolinewidth = 1\n",
    "    ),\n",
    "    xaxis = dict(\n",
    "        color = 'black',\n",
    "        title='Year',\n",
    "        dtick = 1\n",
    "    ),\n",
    "    legend = dict(\n",
    "        xanchor = \"left\",\n",
    "        yanchor = \"middle\",\n",
    "        y = 0.5, \n",
    "        x = 1,\n",
    "        orientation = \"v\"\n",
    "    ),\n",
    "    plot_bgcolor = 'white'\n",
    ")\n"
   ]
  },
  {
   "cell_type": "code",
   "execution_count": null,
   "id": "south-cartoon",
   "metadata": {},
   "outputs": [],
   "source": [
    "continent_plot = go.Figure(data = continent_data, layout=continent_layout)\n",
    "\n",
    "continent_plot.update_yaxes(type=\"log\",\n",
    "                            dtick=1)\n",
    "\n",
    "continent_plot.update_xaxes(dtick=1)\n",
    "\n",
    "continent_plot.add_annotation(x=2015.3, y=0.15,\n",
    "                              text='* In PATSTAT, the Russian Federation and<br>Turkey are classified as \"Europe/Asia\".',\n",
    "                              font = dict(color = 'black'),\n",
    "                              showarrow=False,\n",
    "                              yshift=10)\n",
    "           \n",
    "continent_plot.show()\n",
    "\n",
    "# Save this plot as eps\n",
    "if only_granted:\n",
    "    filename = 'development_by_continent_only_granted'\n",
    "else:\n",
    "    filename = 'development_by_continent_all_appln'\n",
    "\n",
    "image_saver(continent_plot, filename, True)\n",
    "\n",
    "continent_title\n"
   ]
  },
  {
   "cell_type": "markdown",
   "id": "close-christian",
   "metadata": {},
   "source": [
    "### Per labor force plot, sorted by values after scaling"
   ]
  },
  {
   "cell_type": "code",
   "execution_count": null,
   "id": "554644c8",
   "metadata": {},
   "outputs": [],
   "source": [
    "all_scaled_by_population = all_.copy()\n",
    "#all_scaled_by_population\n"
   ]
  },
  {
   "cell_type": "code",
   "execution_count": null,
   "id": "6ad6f07c",
   "metadata": {},
   "outputs": [],
   "source": [
    "# Drop countries that are not in the labor force dataset\n",
    "\n",
    "all_scaled_by_population.drop(columns = ['SH', 'GF', 'JE', 'AN', 'KN', 'CS'], inplace = True)\n"
   ]
  },
  {
   "cell_type": "code",
   "execution_count": null,
   "id": "06485a1d",
   "metadata": {},
   "outputs": [],
   "source": [
    "pop_dict_all = {}\n",
    "\n",
    "for country in list(all_scaled_by_population):\n",
    "\n",
    "    country_name = ctry_code_name_dict_world_bank[country]\n",
    "    #population = (populations[(populations['Location'] == country_name) & (populations['Time'] >= min(years)) & (populations['Time'] <= max(years))]['PopTotal']).values\n",
    "    pop_dict_all[country] = labor_force_dict[country_name]\n",
    "\n",
    "# Note: Values are in one thousand inhabitants!\n",
    "\n",
    "#pop_dict_all\n"
   ]
  },
  {
   "cell_type": "code",
   "execution_count": null,
   "id": "rotary-reduction",
   "metadata": {},
   "outputs": [],
   "source": [
    "# Scale by labor force\n",
    "\n",
    "for country in list(all_scaled_by_population):\n",
    "    \n",
    "    try:\n",
    "        all_scaled_by_population.at[:, country] = all_scaled_by_population.loc[:, country] / pop_dict_all[country] * (10**3)\n",
    "\n",
    "    except Exception as e:\n",
    "        print(country)\n",
    "        print(ctry_code_name_dict[country])\n",
    "        #print(country in list(all_scaled_by_population))\n",
    "        #print(country in list(pop_dict_all))\n",
    "        print(type(e))\n",
    "        print(e)\n",
    "        print()\n",
    "        \n",
    "#all_scaled_by_population\n",
    "\n",
    "\n",
    "# Notes:\n",
    "# Not existant anymore:\n",
    "# - Yugoslavia\n",
    "# - Netherlands Antilles\n",
    "# - Czechoslovakia\n",
    "# Not found in set(populations['Location']):\n",
    "# - Jersey"
   ]
  },
  {
   "cell_type": "code",
   "execution_count": null,
   "id": "5e9fd225",
   "metadata": {},
   "outputs": [],
   "source": [
    "# Exclude countries with irregular behaviour\n",
    "\n",
    "#all_scaled_by_population.drop(columns=['VG', 'KY', 'LI','LU','BM','MC', 'BB'], inplace=True)\n",
    "#all_scaled_by_population.drop(columns=['VG', 'KY', 'LI','LU', 'BB'], inplace=True)\n",
    "#all_scaled_by_population.drop(columns=['VG', 'KY', 'LI','LU', 'BB', 'BS', 'MT'], inplace=True)\n",
    "\n"
   ]
  },
  {
   "cell_type": "code",
   "execution_count": null,
   "id": "unlikely-signature",
   "metadata": {},
   "outputs": [],
   "source": [
    "# Get the countries with the highest total (scaled)\n",
    "\n",
    "# Define how many countries to plot\n",
    "num_countries_to_plot_scaled = 8\n",
    "\n",
    "highest_total_labels_scaled = list(all_scaled_by_population.sum(axis=0).sort_values(ascending=False)[:num_countries_to_plot_scaled].index)\n",
    "highest_total_labels_scaled\n"
   ]
  },
  {
   "cell_type": "code",
   "execution_count": null,
   "id": "4dbd8a34",
   "metadata": {},
   "outputs": [],
   "source": [
    "all_scaled_by_population.sum(axis=0).sort_values(ascending=False)[:20]"
   ]
  },
  {
   "cell_type": "code",
   "execution_count": null,
   "id": "macro-arbitration",
   "metadata": {},
   "outputs": [],
   "source": [
    "for i, country in enumerate(highest_total_labels_scaled):\n",
    "    \n",
    "    if country in list(country_labels_dict):\n",
    "        country_name = country_labels_dict[country]\n",
    "    \n",
    "    else:\n",
    "        country_name = ctry_code_name_dict[country]\n",
    "\n",
    "    x = df['year']\n",
    "    y = all_scaled_by_population.loc[:, country]\n",
    "    \n",
    "    #print(country)\n",
    "    \n",
    "    line_width = 3\n",
    "    \n",
    "    if True:\n",
    "        if i == 0:\n",
    "            person_ctry_code_pop_data_2 = [\n",
    "                dict(\n",
    "                    type = 'scatter',\n",
    "                    x = x,\n",
    "                    y = y,\n",
    "                    name = country_name,\n",
    "                    line_width = line_width\n",
    "                )\n",
    "            ]\n",
    "        else:\n",
    "            if True:\n",
    "                person_ctry_code_pop_data_2.append(\n",
    "                    dict(\n",
    "                        type = 'scatter',\n",
    "                        x = x,\n",
    "                        y = y,\n",
    "                        name = country_name,\n",
    "                        line_width = line_width\n",
    "                    )\n",
    "                )\n"
   ]
  },
  {
   "cell_type": "code",
   "execution_count": null,
   "id": "contrary-sunrise",
   "metadata": {},
   "outputs": [],
   "source": [
    "person_ctry_code_pop_title_2 = \"Development of the number of battery IPFs per 1M workers:<br>Counted by inventors' countries of origin, \" +str(min(years))+'-'+str(max(years))\n",
    "\n",
    "person_ctry_code_pop_layout_2 =dict(\n",
    "    title=dict(\n",
    "        text = person_ctry_code_pop_title_2,\n",
    "        y = 0.9,\n",
    "        x = 0.5,\n",
    "        xanchor = 'center',\n",
    "        yanchor = 'top',\n",
    "        font = dict(color = 'black')\n",
    "    ),\n",
    "    yaxis = dict(\n",
    "        color = 'black',\n",
    "        title = 'Number of IPFs per 1M workers',\n",
    "        showgrid = True,\n",
    "        gridwidth = 1,\n",
    "        gridcolor = 'black',\n",
    "        zerolinecolor = 'black',\n",
    "        zerolinewidth = 1\n",
    "    ),\n",
    "    xaxis = dict(\n",
    "        color = 'black',\n",
    "        title='Year',\n",
    "        dtick = 1\n",
    "    ),\n",
    "    legend = dict(\n",
    "        xanchor = \"left\",\n",
    "        yanchor = \"middle\",\n",
    "        y = 0.5, \n",
    "        x = 1,\n",
    "        orientation = \"v\"\n",
    "    ),\n",
    "    plot_bgcolor = 'white'\n",
    ")\n"
   ]
  },
  {
   "cell_type": "code",
   "execution_count": null,
   "id": "final-exchange",
   "metadata": {},
   "outputs": [],
   "source": [
    "person_ctry_pop_plot_2 = go.Figure(data = person_ctry_code_pop_data_2, layout=person_ctry_code_pop_layout_2)\n",
    "\n",
    "#person_ctry_pop_plot_2.update_yaxes(type=\"log\", dtick=1)\n",
    "           \n",
    "person_ctry_pop_plot_2.show()\n",
    "\n",
    "# Save this plot as eps\n",
    "if only_granted:\n",
    "    filename = 'per_pop_size_countries_with_highest_scaled_total_only_granted'\n",
    "else:\n",
    "    filename = 'per_pop_size_countries_with_highest_scaled_total_all_appln'\n",
    "    \n",
    "image_saver(person_ctry_pop_plot_2, filename, True)\n",
    "\n",
    "person_ctry_code_pop_title_2\n"
   ]
  },
  {
   "cell_type": "markdown",
   "id": "8744fdb4",
   "metadata": {},
   "source": [
    "#### For comparison: The plot from above that simply shows the top 8 countries in terms of total patent family output"
   ]
  },
  {
   "cell_type": "code",
   "execution_count": null,
   "id": "64de1263",
   "metadata": {},
   "outputs": [],
   "source": [
    "person_ctry_code_plot.show()\n"
   ]
  },
  {
   "cell_type": "markdown",
   "id": "f2ed9e64",
   "metadata": {},
   "source": [
    "### Plot that shows the top 6 from both (sorted by total and sorted by values after scaling"
   ]
  },
  {
   "cell_type": "code",
   "execution_count": null,
   "id": "72228026",
   "metadata": {},
   "outputs": [],
   "source": [
    "per_labor_force_countries_to_plot = highest_total_labels_scaled[:6] + ['US', 'CN']\n",
    "\n",
    "for i, country in enumerate(per_labor_force_countries_to_plot):\n",
    "    \n",
    "    if country in list(country_labels_dict):\n",
    "        country_name = country_labels_dict[country]\n",
    "    \n",
    "    else:\n",
    "        country_name = ctry_code_name_dict[country]\n",
    "\n",
    "    x = df['year']\n",
    "    y = all_scaled_by_population.loc[:, country]\n",
    "    \n",
    "    #print(country)\n",
    "    \n",
    "    if True:\n",
    "        if i == 0:\n",
    "            person_ctry_code_pop_data_3 = [dict(type='scatter',\n",
    "                                x=x,\n",
    "                                y=y,\n",
    "                                name=country_name\n",
    "                               )]\n",
    "        else:\n",
    "            if True:\n",
    "                person_ctry_code_pop_data_3.append(dict(type='scatter',\n",
    "                                    x=x,\n",
    "                                    y=y,\n",
    "                                    name=country_name\n",
    "                                   ))\n"
   ]
  },
  {
   "cell_type": "code",
   "execution_count": null,
   "id": "8af8c5c2",
   "metadata": {},
   "outputs": [],
   "source": [
    "person_ctry_code_pop_title_3 = \"Development of the number of IPFs per 1M workers for selected countries:<br>Counted by inventors' countries of origin, \" +str(min(years))+'-'+str(max(years))#+', y-axis is log-scaled'\n",
    "\n",
    "person_ctry_code_pop_layout_3 = dict(\n",
    "    title=dict(\n",
    "        text = person_ctry_code_pop_title_3,\n",
    "        y = 0.9,\n",
    "        x = 0.5,\n",
    "        xanchor = 'center',\n",
    "        yanchor = 'top',\n",
    "        font = dict(color = 'black')\n",
    "    ),\n",
    "    yaxis=dict(\n",
    "        title = 'Number of IPFs per 1M workers',\n",
    "        color = 'black',\n",
    "        showgrid = True,\n",
    "        gridwidth = 1,\n",
    "        gridcolor = 'black',\n",
    "        #type = \"log\",\n",
    "        #dtick = 1\n",
    "        #zeroline=True,\n",
    "        zerolinecolor = 'black',\n",
    "        zerolinewidth = 1\n",
    "    ),\n",
    "    xaxis=dict(\n",
    "        title = 'Year',\n",
    "        color = 'black',\n",
    "        dtick = 1,\n",
    "        #showgrid = True,\n",
    "        #gridcolor = 'black'\n",
    "    ),\n",
    "    legend = dict(\n",
    "        xanchor=\"left\",\n",
    "        yanchor=\"middle\",\n",
    "        y=0.5, \n",
    "        x=1,\n",
    "        orientation=\"v\"\n",
    "    ),\n",
    "    # Make background white\n",
    "    plot_bgcolor = \"white\"\n",
    ")\n"
   ]
  },
  {
   "cell_type": "code",
   "execution_count": null,
   "id": "0ad37a63",
   "metadata": {},
   "outputs": [],
   "source": [
    "person_ctry_pop_plot_3 = go.Figure(data = person_ctry_code_pop_data_3, layout=person_ctry_code_pop_layout_3)\n",
    "\n",
    "# Make background white\n",
    "#person_ctry_pop_plot_3.update_layout(plot_bgcolor = \"white\")\n",
    "\n",
    "#person_ctry_pop_plot_3.update_xaxes(showline=True, linewidth=2, linecolor='black')\n",
    "#person_ctry_pop_plot_3.update_yaxes(showline=True, linewidth=2, linecolor='black')\n",
    "\n",
    "#person_ctry_pop_plot_3.update_yaxes(showgrid=True, zeroline=True)\n",
    "#person_ctry_pop_plot_3.update_xaxes(showgrid=True, zeroline=True)\n",
    "\n",
    "person_ctry_pop_plot_3.show()\n",
    "\n",
    "# Save this plot as eps\n",
    "if only_granted:\n",
    "    filename = 'per_pop_size_selected_countries_only_granted'\n",
    "else:\n",
    "    filename = 'per_pop_size_selected_countries_all_appln'\n",
    "    \n",
    "#image_saver(person_ctry_pop_plot_3, filename, True)\n",
    "\n",
    "person_ctry_code_pop_title_3\n"
   ]
  },
  {
   "cell_type": "markdown",
   "id": "environmental-progressive",
   "metadata": {},
   "source": [
    "## Plots that separate different battery technologies"
   ]
  },
  {
   "cell_type": "markdown",
   "id": "64c9d522",
   "metadata": {},
   "source": [
    "### Create technologies dataframes"
   ]
  },
  {
   "cell_type": "code",
   "execution_count": null,
   "id": "dbdbc66f",
   "metadata": {},
   "outputs": [],
   "source": [
    "technologies_list = ['Lead-acid',\n",
    "                     'Lithium-air',\n",
    "                     'Lithium-ion',\n",
    "                     'Lithium-sulfur',\n",
    "                     'Other lithium',\n",
    "                     'Magnesium-ion',\n",
    "                     'Nickel-cadmium',\n",
    "                     'Nickel-iron',\n",
    "                     'Nickel-zinc',\n",
    "                     'Nickel-metal hydride',\n",
    "                     'Rechargeable alkaline',\n",
    "                     'Sodium-sulfur',\n",
    "                     'Sodium-ion',\n",
    "                     'Solid-state',\n",
    "                     'Aluminium-ion',\n",
    "                     'Calcium(-ion)',\n",
    "                     'Organic radical',\n",
    "                     'Redox flow',\n",
    "                     'Nickel–hydrogen']\n"
   ]
  },
  {
   "cell_type": "code",
   "execution_count": null,
   "id": "4afab239",
   "metadata": {},
   "outputs": [],
   "source": [
    "len(technologies_list)\n"
   ]
  },
  {
   "cell_type": "code",
   "execution_count": null,
   "id": "7cb84468",
   "metadata": {
    "scrolled": false
   },
   "outputs": [],
   "source": [
    "# New version using tags\n",
    "\n",
    "family_id_ctry_codes_lists_list = []\n",
    "ctry_codes_counts_lists_list = []\n",
    "known_percentage_lists_list = []\n",
    "\n",
    "for i in range(len(technologies_list)):\n",
    "    \n",
    "    print(technologies_list[i])\n",
    "\n",
    "    #data_this_technology = data_technologies_list[i]\n",
    "    one_hot_col_name_this_technology = 'is_'+technologies_list[i]\n",
    "    print(one_hot_col_name_this_technology)\n",
    "    data_this_technology = data[data[one_hot_col_name_this_technology]==1]\n",
    "    print(len(data_this_technology))\n",
    "\n",
    "    family_id_ctry_codes_list = []\n",
    "    ctry_codes_counts_list = []\n",
    "    known_percentage_list = []\n",
    "\n",
    "    for year in tqdm(years):\n",
    "\n",
    "        #print('Year', str(year))\n",
    "\n",
    "        data_to_function = data_this_technology[data_this_technology['earliest_publn_year_this_family_id']==year]\n",
    "\n",
    "        family_id_ctry_codes, ctry_codes_counts, known_percentage = get_counts(\n",
    "            data_to_function,\n",
    "            False,\n",
    "            False,\n",
    "            True,\n",
    "            True)\n",
    "\n",
    "        family_id_ctry_codes_list = family_id_ctry_codes_list + [family_id_ctry_codes]\n",
    "        ctry_codes_counts_list = ctry_codes_counts_list + [ctry_codes_counts]\n",
    "        known_percentage_list = known_percentage_list + [known_percentage]\n",
    "        \n",
    "    family_id_ctry_codes_lists_list = family_id_ctry_codes_lists_list + [family_id_ctry_codes_list]\n",
    "    ctry_codes_counts_lists_list = ctry_codes_counts_lists_list + [ctry_codes_counts_list]\n",
    "    known_percentage_lists_list = known_percentage_lists_list + [known_percentage_list]\n",
    "\n",
    "#new = family_id_ctry_codes_lists_list.copy()\n"
   ]
  },
  {
   "cell_type": "code",
   "execution_count": null,
   "id": "charitable-skirt",
   "metadata": {},
   "outputs": [],
   "source": [
    "dfs_technologies_list = []\n",
    "\n",
    "for i in range(len(technologies_list)):\n",
    "    \n",
    "    df_this_technology = pd.DataFrame.from_records(ctry_codes_counts_lists_list[i])\n",
    "    df_this_technology.insert(loc=0, column='year', value=years)\n",
    "    df_this_technology.rename(columns={'  ':'unknown'}, inplace=True)\n",
    "    \n",
    "    dfs_technologies_list = dfs_technologies_list + [df_this_technology]\n",
    "    "
   ]
  },
  {
   "cell_type": "code",
   "execution_count": null,
   "id": "portuguese-stock",
   "metadata": {},
   "outputs": [],
   "source": [
    "#print(technologies_list[i])\n",
    "\n",
    "#print(dfs_technologies_list[i].shape)\n",
    "\n",
    "#dfs_technologies_list[i]\n"
   ]
  },
  {
   "cell_type": "markdown",
   "id": "impaired-shoulder",
   "metadata": {},
   "source": [
    "### Global plot"
   ]
  },
  {
   "cell_type": "code",
   "execution_count": null,
   "id": "introductory-hormone",
   "metadata": {},
   "outputs": [],
   "source": [
    "technology_totals = pd.DataFrame()\n",
    "\n",
    "# Build df for whole timespan\n",
    "for i, df in enumerate(dfs_technologies_list):\n",
    "    \n",
    "    this_technology_totals = df.drop(columns='year').sum(axis=1)\n",
    "    \n",
    "    technology_totals[technologies_list[i]] = this_technology_totals\n",
    "    \n",
    "technology_totals.insert(0, 'year', years)\n"
   ]
  },
  {
   "cell_type": "code",
   "execution_count": null,
   "id": "geographic-truck",
   "metadata": {},
   "outputs": [],
   "source": [
    "technology_totals\n"
   ]
  },
  {
   "cell_type": "code",
   "execution_count": null,
   "id": "5c033e4b",
   "metadata": {},
   "outputs": [],
   "source": [
    "# New with other lithium - inventors - technologies one-hot sum - new dataset containing charging\n",
    "\n",
    "data_plot = []\n",
    "\n",
    "for column in list(technology_totals.drop(columns='year')):\n",
    "    \n",
    "    data_plot = data_plot + [go.Bar(name=column,\n",
    "                   x = years,\n",
    "                   y = technology_totals[column])\n",
    "                  ]\n",
    "\n",
    "technologies_countries_all_plot = go.Figure(data_plot)\n",
    "\n",
    "technologies_countries_all_title = \"Development of the world's battery technology distribution, \"+str(year_begin)+'-'+str(year_end)\n",
    "\n",
    "# Change the bar mode\n",
    "technologies_countries_all_plot.update_layout(barmode='stack',\n",
    "                  title=dict(text = technologies_countries_all_title),\n",
    "                  yaxis=dict(title='Number of battery patent families'),\n",
    "                  xaxis=dict(title='Year'),\n",
    "                  legend = dict(\n",
    "                                      xanchor=\"left\",\n",
    "                                      yanchor=\"middle\",\n",
    "                                      y=0.5, \n",
    "                                      x=1,\n",
    "                                      orientation=\"v\")\n",
    "                 )\n",
    "\n",
    "technologies_countries_all_plot.update_xaxes(dtick=1)\n",
    "\n",
    "technologies_countries_all_plot.show()\n",
    "\n",
    "# Save this plot as eps\n",
    "if only_granted:\n",
    "    filename = 'technologies_countries_all'\n",
    "else:\n",
    "    filename = 'technologies_countries_all_all_appln'\n",
    "    \n",
    "#image_saver(technologies_countries_all_plot, filename, True)\n",
    "\n",
    "technologies_countries_all_title\n"
   ]
  },
  {
   "cell_type": "code",
   "execution_count": null,
   "id": "cae2e541",
   "metadata": {},
   "outputs": [],
   "source": [
    "bubbles_plot_categories = ['Lead-acid',\n",
    "                           'Lithium-ion',\n",
    "                           'Lithium-sulfur',\n",
    "                           'Solid-state',\n",
    "                           'Other lithium',\n",
    "                           'Sodium-ion',\n",
    "                           'Redox flow']\n",
    "\n",
    "bubbles_plot_categories.reverse()\n",
    "\n",
    "bubbles_plot_data = technology_totals[['year']+bubbles_plot_categories]\n",
    "bubbles_plot_data.set_index('year', inplace=True)\n",
    "\n",
    "rows = list(bubbles_plot_data.index)\n",
    "cols = list(bubbles_plot_data)\n",
    "\n",
    "#print(rows)\n",
    "#print()\n",
    "#print(cols)\n",
    "#print()\n",
    "\n",
    "array = []\n",
    "for row in rows:\n",
    "    for col in cols:\n",
    "        #print(row)\n",
    "        #print(col)\n",
    "        number = bubbles_plot_data.loc[row, col]\n",
    "        #print(number)\n",
    "        #print()\n",
    "        \n",
    "        new_row = [row, col, number]\n",
    "        array.append(new_row)\n",
    "        \n",
    "bubbles_plot_data_transformed = pd.DataFrame(array, columns=['year', 'category', 'number'])\n",
    "\n",
    "#bubbles_plot_data_transformed['number**(1/2)'] = bubbles_plot_data_transformed['number']**(1/2)\n",
    "\n",
    "#bubbles_plot_data_transformed\n"
   ]
  },
  {
   "cell_type": "code",
   "execution_count": null,
   "id": "7776fc9a",
   "metadata": {},
   "outputs": [],
   "source": [
    "category_column = list(bubbles_plot_data_transformed['category'])\n",
    "category_column_transformed = []\n",
    "for item in category_column:\n",
    "    \n",
    "    if ('-' in item):\n",
    "        item = item.replace('-', '-<br>')\n",
    "    if (' ' in item):\n",
    "        item = item.replace(' ', '<br>')\n",
    "    category_column_transformed.append(item)\n",
    "\n",
    "bubbles_plot_data_transformed['category'] = category_column_transformed\n",
    "\n",
    "#####\n",
    "\n",
    "# For adding (except solid-state) to Lithium-ion\n",
    "# I'm thinking it might cause more confusion than clarity\n",
    "if False:\n",
    "    \n",
    "    category_column = list(bubbles_plot_data_transformed['category'])\n",
    "    category_column_transformed = []\n",
    "    for item in category_column:\n",
    "\n",
    "        if item == 'Lithium-<br>ion':\n",
    "            item = 'Lithium-ion<br>(except solid-state)'\n",
    "        category_column_transformed.append(item)\n",
    "\n",
    "    bubbles_plot_data_transformed['category'] = category_column_transformed\n",
    "\n",
    "#bubbles_plot_data_transformed\n"
   ]
  },
  {
   "cell_type": "code",
   "execution_count": null,
   "id": "533912df",
   "metadata": {},
   "outputs": [],
   "source": [
    "scaler = 3\n",
    "\n",
    "bubbles_plot = go.Figure(data=[go.Scatter(\n",
    "    x = bubbles_plot_data_transformed['year'],\n",
    "    y = bubbles_plot_data_transformed['category'],\n",
    "    mode='markers+text',    \n",
    "    marker_size = (bubbles_plot_data_transformed['number'] * scaler) ** (1/2),\n",
    "    marker_color = colors_plotly_default[0],\n",
    "    \n",
    "    text = round(bubbles_plot_data_transformed['number'].astype(int)),\n",
    "    \n",
    "    textposition='bottom center',\n",
    "    #textfont = dict(color = colors_plotly_default[0])\n",
    "    textfont = dict(color = 'black')\n",
    "    \n",
    ")])\n",
    "\n",
    "#bubbles_plot.update_xaxes(showgrid=True, gridwidth=1, gridcolor='black')\n",
    "bubbles_plot.update_yaxes(showgrid=True, gridwidth=1, gridcolor='black')\n",
    "\n",
    "bubbles_plot.update_xaxes(dtick=1)\n",
    "\n",
    "# Make background white\n",
    "bubbles_plot.update_layout(plot_bgcolor = \"white\")\n",
    "\n",
    "# Set title\n",
    "title = \"Development of the world's battery patenting activity for selected battery types:<br>The depicted battery IPF fractional counts are rounded to the closest integer, \"+str(year_begin)+'-'+str(year_end)\n",
    "bubbles_plot.update_layout(\n",
    "    title=dict(\n",
    "        text = title,\n",
    "        y = 0.9,\n",
    "        x = 0.5,\n",
    "        xanchor = 'center',\n",
    "        yanchor = 'top',\n",
    "        font = dict(color = 'black')\n",
    "    ),\n",
    "    yaxis=dict(title='Battery type',\n",
    "               color = 'black'),\n",
    "    xaxis=dict(title='Year',\n",
    "               color = 'black',\n",
    "               tickmode = 'array',\n",
    "               tickvals = list(range(year_begin, year_end + 1))\n",
    "    )\n",
    ")\n",
    "\n",
    "bubbles_plot.show()\n",
    "\n",
    "image_saver(bubbles_plot, 'bubbles', True)\n"
   ]
  },
  {
   "cell_type": "markdown",
   "id": "theoretical-purchase",
   "metadata": {},
   "source": [
    "### Countries' plots"
   ]
  },
  {
   "cell_type": "code",
   "execution_count": null,
   "id": "three-publisher",
   "metadata": {},
   "outputs": [],
   "source": [
    "countries_to_plot = ['CN', 'JP', 'KR', 'US', 'DE']\n",
    "\n",
    "countries_dfs_to_plot = []\n",
    "\n",
    "for country in countries_to_plot:\n",
    "        \n",
    "    this_country_df = pd.DataFrame()\n",
    "    \n",
    "    for i in range(len(technologies_list)):\n",
    "        \n",
    "        try:\n",
    "\n",
    "            this_country_df[technologies_list[i]] = dfs_technologies_list[i][country]\n",
    "            \n",
    "        except Exception as e:\n",
    "            \n",
    "            print(e)\n",
    "            print(technologies_list[i])\n",
    "            \n",
    "            dfs_technologies_list[i][country] = np.nan\n",
    "            \n",
    "            this_country_df[technologies_list[i]] = dfs_technologies_list[i][country]\n",
    "        \n",
    "    countries_dfs_to_plot = countries_dfs_to_plot + [this_country_df]\n"
   ]
  },
  {
   "cell_type": "code",
   "execution_count": null,
   "id": "extended-wonder",
   "metadata": {},
   "outputs": [],
   "source": [
    "def plot_technology_development(entities_dfs_to_plot, entity_index):\n",
    "    \n",
    "    data_plot = []\n",
    "\n",
    "    for column in list(entities_dfs_to_plot[entity_index]):\n",
    "\n",
    "        data_plot = data_plot + [go.Bar(name=column,\n",
    "                       x = years,\n",
    "                       y = entities_dfs_to_plot[entity_index][column])\n",
    "                      ]\n",
    "\n",
    "    fig = go.Figure(data_plot)\n",
    "\n",
    "    country_written = country_labels_dict[countries_to_plot[entity_index]]\n",
    "\n",
    "    title = \"Development of \"+country_written+\"'s battery technology distribution, \"+str(year_begin)+\"-\"+str(year_end)\n",
    "\n",
    "    # Change the bar mode\n",
    "    fig.update_layout(barmode='stack',\n",
    "                      title=dict(text=title),\n",
    "                      yaxis=dict(title='Number of battery patent families from '+country_written),\n",
    "                      xaxis=dict(title='Year'),\n",
    "                      legend = dict(\n",
    "                                          xanchor=\"left\",\n",
    "                                          yanchor=\"middle\",\n",
    "                                          y=0.5, \n",
    "                                          x=1,\n",
    "                                          orientation=\"v\")\n",
    "                     )\n",
    "\n",
    "    fig.update_xaxes(dtick=1)\n",
    "    \n",
    "    fig.show()\n",
    "    \n",
    "    # Save this plot as eps\n",
    "    \n",
    "    filename = 'technologies_countries_'+country_written\n",
    "    \n",
    "    if not only_granted:\n",
    "        filename = filename+'_all_appln'\n",
    "\n",
    "    #image_saver(fig, filename, True)\n",
    "    \n",
    "    print(title)"
   ]
  },
  {
   "cell_type": "code",
   "execution_count": null,
   "id": "young-drain",
   "metadata": {},
   "outputs": [],
   "source": [
    "plot_technology_development(countries_dfs_to_plot, 0)\n"
   ]
  },
  {
   "cell_type": "code",
   "execution_count": null,
   "id": "assigned-lindsay",
   "metadata": {},
   "outputs": [],
   "source": [
    "plot_technology_development(countries_dfs_to_plot, 1)\n"
   ]
  },
  {
   "cell_type": "code",
   "execution_count": null,
   "id": "french-wrist",
   "metadata": {},
   "outputs": [],
   "source": [
    "plot_technology_development(countries_dfs_to_plot, 2)\n"
   ]
  },
  {
   "cell_type": "code",
   "execution_count": null,
   "id": "conventional-design",
   "metadata": {},
   "outputs": [],
   "source": [
    "plot_technology_development(countries_dfs_to_plot, 3)\n"
   ]
  },
  {
   "cell_type": "code",
   "execution_count": null,
   "id": "enabling-boulder",
   "metadata": {},
   "outputs": [],
   "source": [
    "plot_technology_development(countries_dfs_to_plot, 4)\n"
   ]
  },
  {
   "cell_type": "markdown",
   "id": "abroad-customs",
   "metadata": {},
   "source": [
    "## Clustering countries using their technology distributions"
   ]
  },
  {
   "cell_type": "code",
   "execution_count": null,
   "id": "a112c235",
   "metadata": {},
   "outputs": [],
   "source": [
    "# Make copies before transforming\n",
    "dfs_technologies_list_save = copy.deepcopy(dfs_technologies_list)\n",
    "technologies_list_save = technologies_list.copy()\n"
   ]
  },
  {
   "cell_type": "code",
   "execution_count": null,
   "id": "266ed415",
   "metadata": {},
   "outputs": [],
   "source": [
    "# This cell is for loading the copies\n",
    "dfs_technologies_list = copy.deepcopy(dfs_technologies_list_save)\n",
    "technologies_list = technologies_list_save.copy()\n"
   ]
  },
  {
   "cell_type": "code",
   "execution_count": null,
   "id": "c1068217",
   "metadata": {},
   "outputs": [],
   "source": [
    "technologies_to_pool = [\n",
    "    'Lithium-ion',\n",
    "    'Other lithium'\n",
    "]\n"
   ]
  },
  {
   "cell_type": "code",
   "execution_count": null,
   "id": "269e91ad",
   "metadata": {},
   "outputs": [],
   "source": [
    "dfs_to_pool = []\n",
    "for technology_to_pool in technologies_to_pool:\n",
    "    \n",
    "    technology_index = technologies_list.index(technology_to_pool)\n",
    "    print(technology_index)\n",
    "    \n",
    "    df_this_technology = dfs_technologies_list[technology_index]\n",
    "    \n",
    "    dfs_to_pool.append(df_this_technology)\n",
    "    "
   ]
  },
  {
   "cell_type": "code",
   "execution_count": null,
   "id": "0c695f6e",
   "metadata": {},
   "outputs": [],
   "source": [
    "sum_df = dfs_to_pool[0]\n",
    "\n",
    "for df in dfs_to_pool[1:]:\n",
    "\n",
    "    sum_df = sum_df.add(df, fill_value=0)\n",
    "\n",
    "sum_df['year'] = (sum_df['year'] / 2).astype(int)\n",
    "#sum_df\n"
   ]
  },
  {
   "cell_type": "code",
   "execution_count": null,
   "id": "29a35f4b",
   "metadata": {},
   "outputs": [],
   "source": [
    "technologies_clustering = [\n",
    "    'Lead-acid',\n",
    "    'Lithium-sulfur',\n",
    "    #'Other lithium and lithium-ion',\n",
    "    #'Lithium-ion',\n",
    "    'Sodium-ion',\n",
    "    'Solid-state',\n",
    "    'Redox flow'\n",
    "]\n"
   ]
  },
  {
   "cell_type": "code",
   "execution_count": null,
   "id": "e9418fc6",
   "metadata": {},
   "outputs": [],
   "source": [
    "dfs_technologies_list_clustering = []\n",
    "dfs_technologies_list_clustering.append(dfs_technologies_list[technologies_list.index('Lead-acid')])\n",
    "dfs_technologies_list_clustering.append(dfs_technologies_list[technologies_list.index('Lithium-sulfur')])\n",
    "#dfs_technologies_list_clustering.append(sum_df)\n",
    "#dfs_technologies_list_clustering.append(dfs_technologies_list[technologies_list.index('Lithium-ion')])\n",
    "dfs_technologies_list_clustering.append(dfs_technologies_list[technologies_list.index('Sodium-ion')])\n",
    "dfs_technologies_list_clustering.append(dfs_technologies_list[technologies_list.index('Solid-state')])\n",
    "dfs_technologies_list_clustering.append(dfs_technologies_list[technologies_list.index('Redox flow')])\n"
   ]
  },
  {
   "cell_type": "code",
   "execution_count": null,
   "id": "83422f70",
   "metadata": {},
   "outputs": [],
   "source": [
    "dfs_technologies_list = dfs_technologies_list_clustering\n"
   ]
  },
  {
   "cell_type": "code",
   "execution_count": null,
   "id": "b0b281a8",
   "metadata": {},
   "outputs": [],
   "source": [
    "technologies_list = technologies_clustering\n"
   ]
  },
  {
   "cell_type": "markdown",
   "id": "55e75f69",
   "metadata": {},
   "source": [
    "### Define functions for assessment, clustering, and plotting"
   ]
  },
  {
   "cell_type": "code",
   "execution_count": null,
   "id": "prepared-catch",
   "metadata": {},
   "outputs": [],
   "source": [
    "figsizes = (15, 8)\n",
    "\n",
    "sns.set()\n",
    "\n",
    "def get_tech_dist_dfs_absolute_list(time_periods_list, dfs_technologies_list):\n",
    "\n",
    "    tech_dist_dfs_absolute_list = []\n",
    "\n",
    "    for j, time_period in enumerate(time_periods_list):\n",
    "\n",
    "        distributions_df_this_time_period = pd.DataFrame()\n",
    "\n",
    "        for i, df_ in enumerate(dfs_technologies_list):\n",
    "\n",
    "            to_sum = df_[(df_['year'] >= time_period[0]) & (df_['year'] <= time_period[1])]\n",
    "\n",
    "            to_sum = to_sum.fillna(0)\n",
    "\n",
    "            time_period_sum = to_sum.drop(columns=['year', 'unknown']).sum(axis=0)\n",
    "\n",
    "            distributions_df_this_time_period[technologies_list[i]] = time_period_sum\n",
    "\n",
    "        distributions_df_this_time_period = distributions_df_this_time_period.fillna(0)\n",
    "\n",
    "        tech_dist_dfs_absolute_list.append(distributions_df_this_time_period)\n",
    "\n",
    "    return tech_dist_dfs_absolute_list\n",
    "\n",
    "\n",
    "def get_tech_dist_dfs_normalised_list(tech_dist_dfs_absolute_list):\n",
    "\n",
    "    # Create rows-wise distributions\n",
    "\n",
    "    tech_dist_dfs_normalised_list = []\n",
    "    rows_sums_notzero_list = []\n",
    "\n",
    "    for distributions_df in tech_dist_dfs_absolute_list:\n",
    "\n",
    "        rows_sums = distributions_df.sum(axis=1)\n",
    "\n",
    "        distributions_df_scaled = distributions_df.divide(rows_sums, axis=0)\n",
    "\n",
    "        tech_dist_dfs_normalised_list.append(distributions_df_scaled)\n",
    "\n",
    "        # Get boolean indexer identifying the rows that don't have sum=0\n",
    "        rows_sums_notzero = (rows_sums!=0)\n",
    "        rows_sums_notzero_list.append(rows_sums_notzero)\n",
    "\n",
    "    rows_sums_notzero_all = rows_sums_notzero_list[0]\n",
    "\n",
    "    for boolean_series in rows_sums_notzero_list:\n",
    "\n",
    "        rows_sums_notzero_all = rows_sums_notzero_all & boolean_series\n",
    "\n",
    "    for i in range(len(tech_dist_dfs_normalised_list)):\n",
    "\n",
    "        tech_dist_dfs_normalised_list[i] = tech_dist_dfs_normalised_list[i].loc[rows_sums_notzero_all, :]\n",
    "\n",
    "    return tech_dist_dfs_normalised_list\n",
    "\n",
    "\n",
    "def get_tech_dist_dfs_normalised_scaled_list(tech_dist_dfs_normalised_list):\n",
    "    \n",
    "    tech_dist_dfs_normalised_scaled_list = []\n",
    "    scaler_list = []\n",
    "\n",
    "    for distributions_df in tech_dist_dfs_normalised_list:\n",
    "\n",
    "        rows_ = list(distributions_df.index)\n",
    "\n",
    "        columns_ = list(distributions_df)\n",
    "\n",
    "        scaler = MinMaxScaler()\n",
    "\n",
    "        distributions_array_scaled = scaler.fit_transform(distributions_df)\n",
    "\n",
    "        scaler_list.append(scaler)\n",
    "\n",
    "        distributions_df_scaled = pd.DataFrame(data = distributions_array_scaled, index=rows_, columns=columns_)\n",
    "\n",
    "        tech_dist_dfs_normalised_scaled_list.append(distributions_df_scaled)\n",
    "\n",
    "    return tech_dist_dfs_normalised_scaled_list\n",
    "\n",
    "\n",
    "# The following contains adapted code from Data Mining labs 8 and 12 at NOVA IMS, 2020.\n",
    "\n",
    "def get_ss(df):\n",
    "    \"\"\"Computes the sum of squares for all variables given a dataset\n",
    "    \"\"\"\n",
    "    ss = np.sum(df.var() * (df.count() - 1))\n",
    "    return ss  # return sum of sum of squares of each df variable\n",
    "\n",
    "\n",
    "def r2(df, labels):\n",
    "    sst = get_ss(df)\n",
    "    ssw = np.sum(df.groupby(labels).apply(get_ss))\n",
    "    return 1 - ssw/sst\n",
    "    \n",
    "    \n",
    "def get_r2_scores(df, clusterer, min_k=1, max_k=10):\n",
    "    \"\"\"\n",
    "    Loop over different values of k. To be used with sklearn clusterers.\n",
    "    \"\"\"\n",
    "    r2_clust = {}\n",
    "    for n in range(min_k, max_k):\n",
    "        clust = clone(clusterer).set_params(n_clusters=n)\n",
    "        labels = clust.fit_predict(df)\n",
    "        r2_clust[n] = r2(df, labels)\n",
    "    return r2_clust\n",
    "\n",
    "\n",
    "def get_dataframes(i,\n",
    "                  tech_dist_dfs_absolute_list,\n",
    "                  tech_dist_dfs_normalised_list,\n",
    "                  tech_dist_dfs_normalised_scaled_list):\n",
    "    \n",
    "    data_absolute = tech_dist_dfs_absolute_list[i].copy().loc[tech_dist_dfs_normalised_list[i].index]\n",
    "\n",
    "    data_normalised = tech_dist_dfs_normalised_list[i]\n",
    "\n",
    "    data_to_cluster = tech_dist_dfs_normalised_scaled_list[i]\n",
    "    \n",
    "    return data_absolute, data_normalised, data_to_cluster\n",
    "\n",
    "\n",
    "def check_clustering_methods(data_to_cluster):\n",
    "    \n",
    "    # Set up the clusterers\n",
    "    kmeans = KMeans(\n",
    "        init='k-means++',\n",
    "        n_init=20,\n",
    "        random_state=42\n",
    "    )\n",
    "\n",
    "    hierarchical = AgglomerativeClustering(\n",
    "        affinity='euclidean'\n",
    "    )\n",
    "    \n",
    "    # Obtaining the R² scores for each cluster solution\n",
    "    r2_scores = {}\n",
    "    r2_scores['kmeans'] = get_r2_scores(data_to_cluster, kmeans)\n",
    "\n",
    "    for linkage in ['complete', 'average', 'single', 'ward']:\n",
    "        r2_scores[linkage] = get_r2_scores(\n",
    "            data_to_cluster, hierarchical.set_params(linkage=linkage)\n",
    "        )\n",
    "\n",
    "    pd.DataFrame(r2_scores)\n",
    "    \n",
    "    # Visualizing the R² scores for each cluster solution\n",
    "    pd.DataFrame(r2_scores).plot.line(figsize=figsizes)\n",
    "\n",
    "    title = \"R² plot for various clustering methods\"\n",
    "    #plt.title(title, fontsize=18)\n",
    "    \n",
    "    plt.legend(title=\"Cluster methods\", title_fontsize=14)\n",
    "    plt.xlabel(\"Number of clusters\", fontsize=14)\n",
    "    plt.ylabel(\"R² metric\", fontsize=14)\n",
    "    plt.show()\n",
    "    \n",
    "    return title\n",
    "\n",
    "    \n",
    "def agglom_clustering_full(data_to_cluster, y_threshold_1 = 3.25, y_threshold_2 = 2.25, *args):\n",
    "    \n",
    "    # setting distance_threshold=0 and n_clusters=None ensures we compute the full tree\n",
    "    linkage = 'ward'\n",
    "    distance = 'euclidean'\n",
    "    hclust = AgglomerativeClustering(linkage=linkage, affinity=distance, distance_threshold=0, n_clusters=None)\n",
    "    hclust.fit_predict(data_to_cluster)\n",
    "    \n",
    "    # Adapted from:\n",
    "    # https://scikit-learn.org/stable/auto_examples/cluster/plot_agglomerative_dendrogram.html#sphx-glr-auto-examples-cluster-plot-agglomerative-dendrogram-py\n",
    "\n",
    "    # create the counts of samples under each node (number of points being merged)\n",
    "    counts = np.zeros(hclust.children_.shape[0])\n",
    "    n_samples = len(hclust.labels_)\n",
    "\n",
    "    # hclust.children_ contains the observation ids that are being merged together\n",
    "    # At the i-th iteration, children[i][0] and children[i][1] are merged to form node n_samples + i\n",
    "    for i, merge in enumerate(hclust.children_):\n",
    "        # track the number of observations in the current cluster being formed\n",
    "        current_count = 0\n",
    "        for child_idx in merge:\n",
    "            if child_idx < n_samples:\n",
    "                # If this is True, then we are merging an observation\n",
    "                current_count += 1  # leaf node\n",
    "            else:\n",
    "                # Otherwise, we are merging a previously formed cluster\n",
    "                current_count += counts[child_idx - n_samples]\n",
    "        counts[i] = current_count\n",
    "\n",
    "    # the hclust.children_ is used to indicate the two points/clusters being merged (dendrogram's u-joins)\n",
    "    # the hclust.distances_ indicates the distance between the two points/clusters (height of the u-joins)\n",
    "    # the counts indicate the number of points being merged (dendrogram's x-axis)\n",
    "    linkage_matrix = np.column_stack(\n",
    "        [hclust.children_, hclust.distances_, counts]\n",
    "    ).astype(float)\n",
    "\n",
    "    # Plot the corresponding dendrogram\n",
    "    sns.set()\n",
    "    fig = plt.figure(figsize=figsizes)\n",
    "\n",
    "    plus_ = 0.03\n",
    "    pos_x = 140\n",
    "    text_fontsize = 15\n",
    "\n",
    "    plt.hlines(y_threshold_1, 0, 1000, colors=\"r\", linestyles=\"dashed\")\n",
    "    plt.hlines(y_threshold_2, 0, 1000, colors=\"r\", linestyles=\"dashed\")\n",
    "\n",
    "    plt.text(pos_x, y_threshold_1 + plus_,'2 clusters', fontsize=text_fontsize)\n",
    "    plt.text(pos_x, y_threshold_2 + plus_,'3 clusters', fontsize=text_fontsize)\n",
    "    \n",
    "    if len(args)!=0:\n",
    "        y_threshold_5 = args[0]\n",
    "        plt.hlines(y_threshold_5, 0, 1000, colors=\"r\", linestyles=\"dashed\")\n",
    "        plt.text(pos_x, y_threshold_5 + plus_,'5 clusters', fontsize=text_fontsize)\n",
    "        dendrogram(linkage_matrix, truncate_mode='level', p=5, color_threshold=y_threshold_5, above_threshold_color='k')\n",
    "        \n",
    "    else:\n",
    "        dendrogram(linkage_matrix, truncate_mode='level', p=5, color_threshold=y_threshold_2, above_threshold_color='k')\n",
    "\n",
    "    title = f'Dendrogram - Hierarchical Clustering using {linkage.title()}\\'s linkage'\n",
    "    #plt.title(title, fontsize=20)\n",
    "\n",
    "    plt.xlabel('Index of point or (number of points in node)', fontsize=20)\n",
    "    plt.ylabel(f'{distance.title()} Distance', fontsize=20)\n",
    "\n",
    "    plt.tick_params(axis = 'both', labelsize = 15)\n",
    "\n",
    "    plt.show()\n",
    "    \n",
    "    return title\n",
    "    \n",
    "    \n",
    "def run_k_means(data_to_cluster, data_normalised, data_absolute, random, n_clusters=2):\n",
    "\n",
    "    if random:\n",
    "        kmeans = KMeans(n_clusters = n_clusters)\n",
    "    else:\n",
    "        kmeans = KMeans(n_clusters = n_clusters, random_state = 10)\n",
    "\n",
    "    labels = kmeans.fit_predict(data_to_cluster)\n",
    "\n",
    "    result_normalised = data_normalised.copy()\n",
    "    result_normalised['label'] = labels\n",
    "\n",
    "    result_absolute = data_absolute.copy()\n",
    "    result_absolute['label'] = labels\n",
    "\n",
    "    return result_normalised, result_absolute\n",
    "\n",
    "\n",
    "def run_agglomerative(data_to_cluster, data_normalised, data_absolute, n_clusters=2):\n",
    "\n",
    "    agglomerative = AgglomerativeClustering(n_clusters)\n",
    "\n",
    "    labels = agglomerative.fit_predict(data_to_cluster)\n",
    "\n",
    "    result_normalised = data_normalised.copy()\n",
    "    result_normalised['label'] = labels\n",
    "\n",
    "    result_absolute = data_absolute.copy()\n",
    "    result_absolute['label'] = labels\n",
    "\n",
    "    return result_normalised, result_absolute\n",
    "    \n",
    "\n",
    "def show_cluster_profiles(data_to_plot_clustering):\n",
    "    \n",
    "    centroids = data_to_plot_clustering.groupby(by='label', as_index=False).mean()\n",
    "\n",
    "    sns.set()\n",
    "\n",
    "    fig = plt.figure(figsize=figsizes)\n",
    "\n",
    "    pd.plotting.parallel_coordinates(centroids, 'label', color=sns.color_palette())\n",
    "    \n",
    "    #Setting Layout\n",
    "    plt.xlabel('Technology', fontsize=20)\n",
    "    plt.ylabel('Distribution value', fontsize=20)\n",
    "    \n",
    "    title = 'Cluster profiles'\n",
    "    #plt.title('Cluster profiles', fontsize=20)\n",
    "    \n",
    "    plt.tick_params(axis = 'both', labelsize = 15)\n",
    "\n",
    "    plt.show()\n",
    "\n",
    "    print(title)\n",
    "    \n",
    "def plot_cluster_counts(data_to_plot_clustering):\n",
    "    \n",
    "    first_colname = list(data_to_plot_clustering)[0]\n",
    "\n",
    "    counts = data_to_plot_clustering.groupby(by='label', as_index=False).count().iloc[:,[0,1]].rename(\n",
    "    columns=({first_colname:'count'}))\n",
    "    \n",
    "    sns.set()\n",
    "\n",
    "    fig = plt.figure(figsize=figsizes)\n",
    "\n",
    "    sns.barplot(x='label', y=\"count\", data=counts)\n",
    "    \n",
    "    #Setting Layout\n",
    "    plt.xlabel('Cluster', fontsize=20)\n",
    "    plt.ylabel('Count', fontsize=20)\n",
    "    \n",
    "    title = 'Counts per cluster'\n",
    "    #plt.title('Counts per cluster', fontsize=20)\n",
    "    \n",
    "    plt.tick_params(axis = 'both', labelsize = 15)\n",
    "\n",
    "    plt.show()\n",
    "    \n",
    "    print(title)\n",
    "    \n",
    "    \n",
    "def show_result(label):\n",
    "\n",
    "    result_show = result_absolute.copy()\n",
    "\n",
    "    result_show = result_show[result_show['label']==label]\n",
    "\n",
    "    result_show['sum'] = result_show.sum(axis=1)\n",
    "\n",
    "    result_show = result_show.sort_values(by='sum', axis=0, ascending=False)\n",
    "    \n",
    "    result_show = result_show.drop(columns=['sum'])\n",
    "    \n",
    "    # find\n",
    "    \n",
    "    countries_list = [\n",
    "        country_labels_dict[item] if item in list(country_labels_dict) else ctry_code_name_dict[item] for item in list(result_show.index) \n",
    "    ]\n",
    "    \n",
    "    print(len(countries_list))\n",
    "    print(countries_list)\n",
    "\n",
    "    #return result_show.head(5)\n",
    "    return result_show\n",
    "\n",
    "\n",
    "def cluster_profiles_radar(plot_data, title, legend_pos, title_pad, yticks, save_fig, *args):\n",
    "    \n",
    "    features = list(plot_data)[:-1]\n",
    "    num_features = len(features)\n",
    "\n",
    "    centroids = {}\n",
    "    for label in list(set(plot_data['label'])):\n",
    "\n",
    "        data_this_cluster = plot_data[plot_data['label']==label].iloc[:, :num_features]\n",
    "\n",
    "        centroid_this_cluster = list(data_this_cluster.sum(axis=0) / len(data_this_cluster))\n",
    "\n",
    "        centroids[label] = centroid_this_cluster\n",
    "\n",
    "    plt.style.use('ggplot')\n",
    "\n",
    "    # Define feature names and add spaces to make plot prettier\n",
    "    #['Lead-acid', 'Lithium-sulfur', 'Solid-state', 'Sodium-ion', 'Redox flow', 'Lead-acid']\n",
    "    \n",
    "    # 5 features\n",
    "    if True:\n",
    "        \n",
    "        features_altered = []\n",
    "        for i, item in enumerate(features):\n",
    "            space = '          '\n",
    "            if (i == 2) or (i == 3):\n",
    "                item = space+item\n",
    "            if i == 0:\n",
    "                item = item+space\n",
    "\n",
    "            features_altered.append(item)\n",
    "        features = features_altered\n",
    "       \n",
    "    # 4 features\n",
    "    if False:\n",
    "        \n",
    "        features_altered = []\n",
    "        for i, item in enumerate(features):\n",
    "            space = '          '\n",
    "            if i == 0:\n",
    "                item = space+item\n",
    "            if i == 2:\n",
    "                item = item+space\n",
    "\n",
    "            features_altered.append(item)\n",
    "        features = features_altered\n",
    "\n",
    "    # Define angles\n",
    "    angles = np.linspace(0, 2*np.pi, num_features, endpoint=False) + np.pi\n",
    "    angles = np.concatenate((angles,[angles[0]]))\n",
    "\n",
    "    # Repeat first item in features list and in centroids lists at their end\n",
    "    features.append(features[0])\n",
    "\n",
    "    for item in centroids:\n",
    "        centroids[item].append(centroids[item][0])\n",
    "\n",
    "    # Define figure\n",
    "    fig=plt.figure(figsize=(6,7))\n",
    "    #fig=plt.figure(figsize=(9,9))\n",
    "    ax=fig.add_subplot(111, polar=True)\n",
    "\n",
    "    # Define colors (use default plotly colors)\n",
    "    colors = colors_plotly_default\n",
    "    \n",
    "    # Create each plot\n",
    "    for i, item in enumerate(centroids):\n",
    "        \n",
    "        label_string = 'Cluster '+str(item+1)\n",
    "        \n",
    "        ax.plot(\n",
    "            angles,\n",
    "            centroids[item],\n",
    "            '-',\n",
    "            color = colors[i],\n",
    "            linewidth = 3,\n",
    "            label = label_string\n",
    "        )\n",
    "    \n",
    "    # Set grid\n",
    "    #ax.set_thetagrids(angles * 180/np.pi, features)\n",
    "    \n",
    "    start = 180\n",
    "    positions = []\n",
    "    num_features = 5\n",
    "    for i in range(0, num_features+1):\n",
    "        angle = start + i * (360 / num_features)\n",
    "\n",
    "        if angle < 360:\n",
    "            positions.append(angle)\n",
    "        else:\n",
    "            positions.append(angle- 360)\n",
    "\n",
    "    ax.set_thetagrids(\n",
    "        positions,\n",
    "        features\n",
    "    )\n",
    "    \n",
    "    plt.grid(\n",
    "        visible=args[0],\n",
    "        which=args[1],\n",
    "        axis=args[2],\n",
    "        color=args[3],\n",
    "        linestyle=args[4],\n",
    "        linewidth=args[5]\n",
    "    )\n",
    "\n",
    "    # Define Layout\n",
    "    ax.set_facecolor(\"white\")\n",
    "    plt.tight_layout()\n",
    "    \n",
    "    # Define legend\n",
    "    plt.legend(facecolor=\"white\",\n",
    "               frameon = False,\n",
    "               loc='lower left', \n",
    "               #loc='upper right', \n",
    "               bbox_to_anchor = legend_pos\n",
    "              )\n",
    "    \n",
    "    # Move x ticks further out (pad > 0)\n",
    "    #ax.tick_params(axis='x', which='major', pad=30)\n",
    "\n",
    "    # Change position of radial axis ticks\n",
    "    r_label_angle = 0 #theta angle\n",
    "\n",
    "    # Radial tick parameters\n",
    "    ax.set_rlabel_position(r_label_angle)\n",
    "    \n",
    "    # Title\n",
    "    plt.title(title,\n",
    "              fontdict = None,\n",
    "              loc = None,\n",
    "              pad = title_pad,\n",
    "              y = None)\n",
    "    \n",
    "    ax.set_yticks(yticks)\n",
    "    \n",
    "    ax.tick_params(axis='x', colors='black')\n",
    "    ax.tick_params(axis='y', colors='black')\n",
    "\n",
    "    # Save plot as .eps and display it\n",
    "    if save_fig:\n",
    "        plt.savefig('radar.eps')\n",
    "    plt.show()\n",
    "    \n",
    "    return centroids\n",
    "    "
   ]
  },
  {
   "cell_type": "markdown",
   "id": "vital-executive",
   "metadata": {},
   "source": [
    "### 2010-2019"
   ]
  },
  {
   "cell_type": "code",
   "execution_count": null,
   "id": "round-johnson",
   "metadata": {},
   "outputs": [],
   "source": [
    "time_periods_list = [[2010,2019]]\n",
    "\n",
    "time_periods_list\n"
   ]
  },
  {
   "cell_type": "code",
   "execution_count": null,
   "id": "daily-visit",
   "metadata": {},
   "outputs": [],
   "source": [
    "tech_dist_dfs_absolute_list_2010_2019 = get_tech_dist_dfs_absolute_list(time_periods_list, dfs_technologies_list)\n",
    "#tech_dist_dfs_absolute_list_2010_2019[0]\n"
   ]
  },
  {
   "cell_type": "code",
   "execution_count": null,
   "id": "5af9df2c",
   "metadata": {},
   "outputs": [],
   "source": [
    "tech_dist_dfs_absolute_list_2010_2019[0] = tech_dist_dfs_absolute_list_2010_2019[0]\n",
    "print(len(tech_dist_dfs_absolute_list_2010_2019[0]))\n",
    "\n",
    "bool_ = tech_dist_dfs_absolute_list_2010_2019[0].sum(axis=1)>= 0\n",
    "\n",
    "tech_dist_dfs_absolute_list_2010_2019[0] = tech_dist_dfs_absolute_list_2010_2019[0][bool_]\n",
    "\n",
    "print(len(tech_dist_dfs_absolute_list_2010_2019[0]))\n"
   ]
  },
  {
   "cell_type": "code",
   "execution_count": null,
   "id": "assigned-atlantic",
   "metadata": {},
   "outputs": [],
   "source": [
    "tech_dist_dfs_normalised_list_2010_2019 = get_tech_dist_dfs_normalised_list(tech_dist_dfs_absolute_list_2010_2019)\n",
    "tech_dist_dfs_normalised_list_2010_2019[0]\n",
    "\n",
    "print(len(tech_dist_dfs_normalised_list_2010_2019[0]))\n"
   ]
  },
  {
   "cell_type": "code",
   "execution_count": null,
   "id": "numeric-preparation",
   "metadata": {},
   "outputs": [],
   "source": [
    "tech_dist_dfs_normalised_scaled_list_2010_2019 = get_tech_dist_dfs_normalised_scaled_list(tech_dist_dfs_normalised_list_2010_2019)\n",
    "tech_dist_dfs_normalised_scaled_list_2010_2019[0]\n",
    "\n",
    "print(len(tech_dist_dfs_normalised_scaled_list_2010_2019[0]))\n"
   ]
  },
  {
   "cell_type": "code",
   "execution_count": null,
   "id": "sonic-finnish",
   "metadata": {},
   "outputs": [],
   "source": [
    "data_absolute, data_normalised, data_to_cluster = get_dataframes(0,\n",
    "                                                                tech_dist_dfs_absolute_list_2010_2019,\n",
    "                                                                tech_dist_dfs_normalised_list_2010_2019,\n",
    "                                                                tech_dist_dfs_normalised_scaled_list_2010_2019)\n"
   ]
  },
  {
   "cell_type": "code",
   "execution_count": null,
   "id": "foreign-alliance",
   "metadata": {},
   "outputs": [],
   "source": [
    "print(len(data_absolute))\n",
    "\n",
    "print(len(data_normalised))\n",
    "\n",
    "print(len(data_to_cluster))\n",
    "\n",
    "print(list(data_absolute.index) == list(data_normalised.index))\n",
    "\n",
    "print(list(data_absolute.index) == list(data_to_cluster.index))\n"
   ]
  },
  {
   "cell_type": "code",
   "execution_count": null,
   "id": "moral-south",
   "metadata": {},
   "outputs": [],
   "source": [
    "check_clustering_methods(data_to_cluster)\n"
   ]
  },
  {
   "cell_type": "code",
   "execution_count": null,
   "id": "e6c8f19c",
   "metadata": {},
   "outputs": [],
   "source": [
    "agglom_clustering_full(data_to_cluster, y_threshold_1 = 2.25, y_threshold_2 = 1.75)\n"
   ]
  },
  {
   "cell_type": "markdown",
   "id": "comfortable-parcel",
   "metadata": {},
   "source": [
    "#### Find 2 clusters"
   ]
  },
  {
   "cell_type": "code",
   "execution_count": null,
   "id": "aggregate-holiday",
   "metadata": {},
   "outputs": [],
   "source": [
    "result_normalised_2010_2019_k_2, result_absolute_2010_2019_k_2 = run_k_means(data_to_cluster, data_normalised, data_absolute, False, n_clusters=2)\n",
    "\n",
    "result_normalised = result_normalised_2010_2019_k_2\n",
    "result_absolute = result_absolute_2010_2019_k_2\n",
    "\n",
    "show_cluster_profiles(result_normalised)\n",
    "\n",
    "plot_cluster_counts(result_normalised)\n"
   ]
  },
  {
   "cell_type": "code",
   "execution_count": null,
   "id": "efe23aae",
   "metadata": {},
   "outputs": [],
   "source": [
    "if False:\n",
    "    \n",
    "    result_normalised_2010_2019_h_2, result_absolute_2010_2019_h_2 = run_agglomerative(data_to_cluster, data_normalised, data_absolute, n_clusters=2)\n",
    "\n",
    "    result_normalised = result_normalised_2010_2019_h_2\n",
    "    result_absolute = result_absolute_2010_2019_h_2\n",
    "\n",
    "    show_cluster_profiles(result_normalised)\n",
    "\n",
    "    plot_cluster_counts(result_normalised)\n"
   ]
  },
  {
   "cell_type": "code",
   "execution_count": null,
   "id": "29b6e24f",
   "metadata": {},
   "outputs": [],
   "source": [
    "centroids_2 = cluster_profiles_radar(\n",
    "    result_normalised,\n",
    "    \"Clustering inventors' countries of origin by their\\nbattery type distribution using recent ten years' data:\\nProfiles of three clusters computed by k-means algorithm\",\n",
    "    (0.7, 0.87), # legend_pos\n",
    "    40, # title_pad\n",
    "    [0.2, 0.4, 0.6, 0.8], # y_ticks\n",
    "    False,\n",
    "    True,\n",
    "    'major',\n",
    "    'both',\n",
    "    'black',\n",
    "    '-',\n",
    "    1\n",
    ")\n"
   ]
  },
  {
   "cell_type": "code",
   "execution_count": null,
   "id": "6dce7d87",
   "metadata": {},
   "outputs": [],
   "source": [
    "centroids_2\n"
   ]
  },
  {
   "cell_type": "code",
   "execution_count": null,
   "id": "racial-sunday",
   "metadata": {},
   "outputs": [],
   "source": [
    "show_result(0)\n"
   ]
  },
  {
   "cell_type": "code",
   "execution_count": null,
   "id": "suited-auckland",
   "metadata": {},
   "outputs": [],
   "source": [
    "show_result(1)\n"
   ]
  },
  {
   "cell_type": "markdown",
   "id": "adjusted-humanitarian",
   "metadata": {},
   "source": [
    "#### Find 3 clusters"
   ]
  },
  {
   "cell_type": "code",
   "execution_count": null,
   "id": "ancient-harmony",
   "metadata": {},
   "outputs": [],
   "source": [
    "result_normalised_2010_2019_k_3, result_absolute_2010_2019_k_3 = run_k_means(data_to_cluster, data_normalised, data_absolute, False, n_clusters=3)\n",
    "\n",
    "result_normalised = result_normalised_2010_2019_k_3\n",
    "result_absolute = result_absolute_2010_2019_k_3\n",
    "\n",
    "show_cluster_profiles(result_normalised)\n",
    "\n",
    "plot_cluster_counts(result_normalised)\n"
   ]
  },
  {
   "cell_type": "code",
   "execution_count": null,
   "id": "034728b5",
   "metadata": {},
   "outputs": [],
   "source": [
    "centroids_3 = cluster_profiles_radar(\n",
    "    result_normalised,\n",
    "    \"Clustering inventors' countries of origin by their\\nbattery type distribution using recent ten years' data:\\nProfiles of three clusters computed by k-means algorithm\",\n",
    "    (0.77, 0.87), # legend_pos\n",
    "    40, # title_pad\n",
    "    [0.2, 0.4, 0.6, 0.8], # y_ticks\n",
    "    True,\n",
    "    True,\n",
    "    'major',\n",
    "    'both',\n",
    "    'black',\n",
    "    '-',\n",
    "    1\n",
    ")"
   ]
  },
  {
   "cell_type": "markdown",
   "id": "b003fc78",
   "metadata": {},
   "source": [
    "##### Run k-means n times in order to compute affiliations distributions"
   ]
  },
  {
   "cell_type": "code",
   "execution_count": null,
   "id": "c43cd107",
   "metadata": {},
   "outputs": [],
   "source": [
    "check = data_absolute.copy()\n",
    "check['sum'] = check.sum(axis = 1)\n",
    "check.sort_values('sum', ascending = False, inplace = True)\n",
    "countries_descending = list(check.index)\n",
    "sums = list(check['sum'])\n",
    "#countries_descending\n"
   ]
  },
  {
   "cell_type": "code",
   "execution_count": null,
   "id": "ba1a791e",
   "metadata": {},
   "outputs": [],
   "source": [
    "sum_dict = {}\n",
    "\n",
    "for i in range(len(check)):\n",
    "    \n",
    "    sum_dict[countries_descending[i]] = sums[i]\n",
    "    \n",
    "#sum_dict\n"
   ]
  },
  {
   "cell_type": "code",
   "execution_count": null,
   "id": "98021ca1",
   "metadata": {},
   "outputs": [],
   "source": [
    "n = 10000\n",
    "\n",
    "clusterings = []\n",
    "\n",
    "for i in tqdm(range(n)):\n",
    "\n",
    "    run_multiple_k_means_normalised, run_multiple_k_means_absolute = run_k_means(data_to_cluster, data_normalised, data_absolute, True, n_clusters=3)\n",
    "\n",
    "    clustering = []\n",
    "    for cluster in set(run_multiple_k_means_normalised['label']):\n",
    "\n",
    "        index = set(run_multiple_k_means_normalised[run_multiple_k_means_normalised['label'] == cluster].index)\n",
    "        clustering.append(index)\n",
    "\n",
    "    clusterings.append(clustering)\n",
    "    \n",
    "#clusterings"
   ]
  },
  {
   "cell_type": "code",
   "execution_count": null,
   "id": "018b0e01",
   "metadata": {},
   "outputs": [],
   "source": [
    "# Get all co-occurrences\n",
    "co_occurrences = set()\n",
    "\n",
    "for clustering in clusterings:\n",
    "    \n",
    "    for cluster in clustering:\n",
    "        \n",
    "        for pair in it.product(cluster, cluster, repeat = 1):\n",
    "            \n",
    "            if pair[0] != pair[1]:\n",
    "                \n",
    "                co_occurrences.add(pair)\n",
    "    \n",
    "len(co_occurrences)\n"
   ]
  },
  {
   "cell_type": "code",
   "execution_count": null,
   "id": "ac183b93",
   "metadata": {},
   "outputs": [],
   "source": [
    "# Get all theoretically possible triples\n",
    "\n",
    "all_countries = set(run_multiple_k_means_normalised.index)\n",
    "\n",
    "possible_triples = set()\n",
    "\n",
    "for triple in it.product(all_countries, all_countries, all_countries, repeat = 1):\n",
    "            \n",
    "    if (triple[0] != triple[1]) & (triple[0] != triple[2]) & (triple[1] != triple[2]):\n",
    "\n",
    "        possible_triples.add(triple)\n",
    "        \n",
    "possible_triples = list(possible_triples)\n",
    "\n",
    "len(possible_triples)\n"
   ]
  },
  {
   "cell_type": "code",
   "execution_count": null,
   "id": "470c5585",
   "metadata": {},
   "outputs": [],
   "source": [
    "# Get triples of countries that are always in their own separate cluster - these are triples that can be used as handles\n",
    "\n",
    "never_occur_together = set()\n",
    "\n",
    "for triple in possible_triples:\n",
    "        \n",
    "    pairs = []\n",
    "    for pair in it.product(triple, triple, repeat = 1):\n",
    "    \n",
    "        if (pair[0] != pair[1]):\n",
    "            pairs.append(pair)\n",
    "        \n",
    "    co_occurred = False\n",
    "    for pair in pairs:\n",
    "        \n",
    "        if pair in co_occurrences:\n",
    "            co_occurred = True\n",
    "    \n",
    "    if not co_occurred:\n",
    "        never_occur_together.add(triple)\n",
    "        \n",
    "len(never_occur_together)\n",
    "#never_occur_together\n"
   ]
  },
  {
   "cell_type": "code",
   "execution_count": null,
   "id": "a824f35a",
   "metadata": {},
   "outputs": [],
   "source": [
    "for country in list(never_occur_together)[0]:\n",
    "    \n",
    "    if country in country_labels_dict:\n",
    "        print(country, country_labels_dict[country])\n",
    "    else:\n",
    "        print(country, ctry_code_name_dict[country])\n",
    "        \n",
    "print(list(never_occur_together)[0])\n"
   ]
  },
  {
   "cell_type": "code",
   "execution_count": null,
   "id": "b4866f70",
   "metadata": {},
   "outputs": [],
   "source": [
    "# Define handles\n",
    "handles = ['TH', 'KP', 'CA']\n",
    "\n",
    "n_before = len(run_multiple_k_means_normalised)\n",
    "print(n_before)\n",
    "\n",
    "neighbors = []\n",
    "\n",
    "for i, clustering in enumerate(clusterings):\n",
    "    \n",
    "    for j, handle in enumerate(handles):\n",
    "        \n",
    "        for cluster in clustering:\n",
    "                        \n",
    "            if handle in cluster:\n",
    "                \n",
    "                if i == 0:\n",
    "\n",
    "                    neighbors.append(cluster)\n",
    "\n",
    "                else:\n",
    "                    \n",
    "                    neighbors[j] = neighbors[j].intersection(cluster)\n",
    "\n",
    "n_after = 0\n",
    "\n",
    "for neighborhood in neighbors:\n",
    "    \n",
    "    n_after += len(neighborhood)\n",
    "\n",
    "print(n_after)"
   ]
  },
  {
   "cell_type": "code",
   "execution_count": null,
   "id": "5451dd72",
   "metadata": {},
   "outputs": [],
   "source": [
    "# Sort neighbors in descending according to their total count in these categories\n",
    "\n",
    "neighbors_descending = [[], [], []]\n",
    "\n",
    "for i, neighborhood in enumerate(neighbors):\n",
    "    \n",
    "    for country in countries_descending:\n",
    "        \n",
    "        if country in neighborhood:\n",
    "            \n",
    "            if country in country_labels_dict:\n",
    "                neighbors_descending[i].append(country_labels_dict[country])\n",
    "            else:\n",
    "                neighbors_descending[i].append(ctry_code_name_dict[country])\n",
    "\n",
    "neighbors_descending\n"
   ]
  },
  {
   "cell_type": "code",
   "execution_count": null,
   "id": "45bafedd",
   "metadata": {},
   "outputs": [],
   "source": [
    "for neighborhood in neighbors_descending:\n",
    "    \n",
    "    print(', '.join(neighborhood)+' ('+str(len(neighborhood))+' countries).')\n",
    "    print()\n",
    "        "
   ]
  },
  {
   "cell_type": "markdown",
   "id": "88b9f8c8",
   "metadata": {},
   "source": [
    "#### Compute each country's cluster affiliation distribution and build most probable clusters"
   ]
  },
  {
   "cell_type": "code",
   "execution_count": null,
   "id": "ee952600",
   "metadata": {},
   "outputs": [],
   "source": [
    "handles"
   ]
  },
  {
   "cell_type": "code",
   "execution_count": null,
   "id": "3b9dc8bd",
   "metadata": {},
   "outputs": [],
   "source": [
    "counters = {}\n",
    "\n",
    "print(handles)\n",
    "\n",
    "for i, country in enumerate(all_countries):\n",
    "    \n",
    "    counter = {}\n",
    "    for handle in handles:\n",
    "        counter[handle] = 0\n",
    "    \n",
    "    for clustering in clusterings:\n",
    "        \n",
    "        for cluster in clustering:\n",
    "            \n",
    "            if country in cluster:\n",
    "                \n",
    "                for handle in handles:\n",
    "                    \n",
    "                    if handle in cluster:\n",
    "                        \n",
    "                        counter[handle] += 1\n",
    "                        \n",
    "    counters[country] = counter\n",
    "\n",
    "distributions = {}\n",
    "for country in list(counters):\n",
    "    \n",
    "    distributions[country] = []\n",
    "    \n",
    "for country in list(counters):\n",
    "    \n",
    "    for count in list(counters[country]):\n",
    "                \n",
    "        distributions[country].append(counters[country][count] / n)\n",
    "    \n",
    "handles_distributions = np.eye(3).tolist()\n",
    "\n",
    "for i, handle in enumerate(handles):\n",
    "    distributions[handle] = handles_distributions[i]\n",
    "    \n",
    "distributions\n"
   ]
  },
  {
   "cell_type": "code",
   "execution_count": null,
   "id": "19c91beb",
   "metadata": {},
   "outputs": [],
   "source": [
    "# Check if there are any leveled distributions (two values the same)\n",
    "\n",
    "for country in list(distributions):\n",
    "    \n",
    "    distribution = distributions[country]\n",
    "    \n",
    "    for i,v1 in enumerate(distribution):\n",
    "        for j,v2 in enumerate(distribution):\n",
    "            if (i!=j) & (v1==v2) & ((v1!=0) & (v2!=0)):\n",
    "                print(v1, v2)\n",
    "                "
   ]
  },
  {
   "cell_type": "code",
   "execution_count": null,
   "id": "080add24",
   "metadata": {},
   "outputs": [],
   "source": [
    "most_prob_clusters = []\n",
    "for i in range(len(handles)):\n",
    "    most_prob_clusters.append([])\n",
    "    \n",
    "for country in list(distributions):\n",
    "    \n",
    "    distribution = distributions[country]\n",
    "    max_ = max(distribution)\n",
    "    \n",
    "    max_index = distribution.index(max_)\n",
    "    \n",
    "    if country in country_labels_dict:\n",
    "        country_written = country_labels_dict[country]\n",
    "    else:\n",
    "        country_written = ctry_code_name_dict[country]\n",
    "                \n",
    "    most_prob_clusters[max_index].append((country_written, max_, sum_dict[country]))\n",
    "    \n",
    "most_prob_clusters_sorted = []\n",
    "for most_prob_cluster in most_prob_clusters:\n",
    "    \n",
    "    tuples = most_prob_cluster\n",
    "    tuples = sorted(tuples, key=lambda tup: tup[2], reverse = True)\n",
    "    tuples = sorted(tuples, key=lambda tup: tup[1], reverse = True)\n",
    "    most_prob_clusters_sorted.append(tuples)\n",
    "\n",
    "most_prob_clusters_sorted\n"
   ]
  },
  {
   "cell_type": "markdown",
   "id": "eaffb14f",
   "metadata": {},
   "source": [
    "#### Create LaTeX code"
   ]
  },
  {
   "cell_type": "code",
   "execution_count": null,
   "id": "05e52bc6",
   "metadata": {},
   "outputs": [],
   "source": [
    "latex_code = '\\\\begin{itemize}'\n",
    "\n",
    "for i, cluster in enumerate(most_prob_clusters_sorted):\n",
    "    \n",
    "    string_ = '\\n\\item Cluster '+str(i + 1)+' ('+str(len(cluster))+' countries):\\n\\n'\n",
    "    \n",
    "    for j, tuple_ in enumerate(cluster):\n",
    "                \n",
    "        prob = tuple_[1]\n",
    "        \n",
    "        if prob == 1:\n",
    "            string_ = string_+'\\colorbox{rb100}{\\hz '+tuple_[0]+'}'\n",
    "        elif (prob < 1) & (prob >= 0.95):\n",
    "            string_ = string_+'\\colorbox{rb70}{\\hz '+tuple_[0]+'}'\n",
    "        elif (prob < 0.95) & (prob >= 0.9):\n",
    "            string_ = string_+'\\colorbox{rb30}{\\hz '+tuple_[0]+'}'\n",
    "        elif (prob < 0.9) & (prob >= 0.85):\n",
    "            string_ = string_+'\\colorbox{rb0}{\\hz '+tuple_[0]+'}'\n",
    "        else:\n",
    "            print('######################')\n",
    "            print('outside defined ranges')\n",
    "            print('######################')\n",
    "            \n",
    "        \n",
    "        if j < len(cluster) - 1:\n",
    "            string_ += ', '\n",
    "        else:\n",
    "            string_ += '.'\n",
    "        \n",
    "    latex_code += '\\n'+string_\n",
    "                \n",
    "latex_code += '\\n\\n\\end{itemize}'\n",
    "print(latex_code)\n",
    "        "
   ]
  },
  {
   "cell_type": "code",
   "execution_count": null,
   "id": "934ad9fa",
   "metadata": {},
   "outputs": [],
   "source": [
    "if False:\n",
    "    \n",
    "    result_normalised_2010_2019_h_3, result_absolute_2010_2019_h_3 = run_agglomerative(data_to_cluster, data_normalised, data_absolute, n_clusters=3)\n",
    "\n",
    "    result_normalised = result_normalised_2010_2019_h_3\n",
    "    result_absolute = result_absolute_2010_2019_h_3\n",
    "\n",
    "    show_cluster_profiles(result_normalised)\n",
    "\n",
    "    plot_cluster_counts(result_normalised)\n"
   ]
  },
  {
   "cell_type": "code",
   "execution_count": null,
   "id": "approximate-noise",
   "metadata": {},
   "outputs": [],
   "source": [
    "show_result(0)\n"
   ]
  },
  {
   "cell_type": "code",
   "execution_count": null,
   "id": "97a26fdb",
   "metadata": {},
   "outputs": [],
   "source": [
    "list_ = ['Japan', 'USA', 'South Korea', 'Germany', 'Italy', 'Taiwan', 'Belgium', 'Austria', 'Netherlands', 'Australia', 'Thailand', 'Switzerland']\n",
    "print(', '.join(list_)+' ('+str(len(list_))+' countries).')\n"
   ]
  },
  {
   "cell_type": "code",
   "execution_count": null,
   "id": "daily-estimate",
   "metadata": {},
   "outputs": [],
   "source": [
    "show_result(1)\n"
   ]
  },
  {
   "cell_type": "code",
   "execution_count": null,
   "id": "1c2bc6df",
   "metadata": {},
   "outputs": [],
   "source": [
    "list_ = ['India', 'Russia', 'Turkey', 'Bulgaria', 'New Zealand', 'Luxembourg', 'Poland', 'Sweden', 'Malta', 'Mexico', \"Democratic People's Republic of Korea\", 'Kazakhstan', 'Hungary', 'Serbia', 'Greece']\n",
    "print(', '.join(list_)+' ('+str(len(list_))+' countries).')\n"
   ]
  },
  {
   "cell_type": "code",
   "execution_count": null,
   "id": "involved-mailing",
   "metadata": {},
   "outputs": [],
   "source": [
    "show_result(2)\n"
   ]
  },
  {
   "cell_type": "code",
   "execution_count": null,
   "id": "484a04a6",
   "metadata": {},
   "outputs": [],
   "source": [
    "list_ = ['China', 'UK', 'France', 'Canada', 'Spain', 'Israel', 'Norway', 'Hong Kong SAR (China)', 'Ukraine']\n",
    "print(', '.join(list_)+' ('+str(len(list_))+' countries).')\n"
   ]
  },
  {
   "cell_type": "markdown",
   "id": "48550b58",
   "metadata": {},
   "source": [
    "#### Find 4 clusters"
   ]
  },
  {
   "cell_type": "code",
   "execution_count": null,
   "id": "1d9e85d6",
   "metadata": {},
   "outputs": [],
   "source": [
    "run_k_means\n"
   ]
  },
  {
   "cell_type": "code",
   "execution_count": null,
   "id": "0430335c",
   "metadata": {},
   "outputs": [],
   "source": [
    "result_normalised_2010_2019_k_4, result_absolute_2010_2019_k_4 = run_k_means(\n",
    "    data_to_cluster, data_normalised, data_absolute, False, n_clusters=4)\n",
    "\n",
    "result_normalised = result_normalised_2010_2019_k_4\n",
    "result_absolute = result_absolute_2010_2019_k_4\n",
    "\n",
    "show_cluster_profiles(result_normalised)\n",
    "\n",
    "plot_cluster_counts(result_normalised)\n"
   ]
  },
  {
   "cell_type": "code",
   "execution_count": null,
   "id": "ee53cba7",
   "metadata": {},
   "outputs": [],
   "source": [
    "if False:\n",
    "    \n",
    "    result_normalised_2010_2019_h_4, result_absolute_2010_2019_h_4 = run_agglomerative(\n",
    "        data_to_cluster, data_normalised, data_absolute, n_clusters=4)\n",
    "\n",
    "    result_normalised = result_normalised_2010_2019_h_4\n",
    "    result_absolute = result_absolute_2010_2019_h_4\n",
    "\n",
    "    show_cluster_profiles(result_normalised)\n",
    "\n",
    "    plot_cluster_counts(result_normalised)\n"
   ]
  },
  {
   "cell_type": "code",
   "execution_count": null,
   "id": "055af99c",
   "metadata": {},
   "outputs": [],
   "source": [
    "cluster_profiles_radar(\n",
    "    result_normalised,\n",
    "    \"Clustering inventors' countries of origin by their\\nbattery type distribution using recent ten years' data:\\nProfiles of three clusters computed by k-means algorithm\",\n",
    "    (0.7, 0.87), # legend_pos\n",
    "    40, # title_pad\n",
    "    [0.2, 0.4, 0.6, 0.8], # y_ticks\n",
    "    False,\n",
    "    True,\n",
    "    'major',\n",
    "    'both',\n",
    "    'black',\n",
    "    '-',\n",
    "    1\n",
    ")\n"
   ]
  },
  {
   "cell_type": "code",
   "execution_count": null,
   "id": "74322ba8",
   "metadata": {},
   "outputs": [],
   "source": [
    "show_result(0)\n"
   ]
  },
  {
   "cell_type": "code",
   "execution_count": null,
   "id": "060e3748",
   "metadata": {},
   "outputs": [],
   "source": [
    "show_result(1)\n"
   ]
  },
  {
   "cell_type": "code",
   "execution_count": null,
   "id": "c64568e4",
   "metadata": {},
   "outputs": [],
   "source": [
    "show_result(2)\n"
   ]
  },
  {
   "cell_type": "code",
   "execution_count": null,
   "id": "ad580f8c",
   "metadata": {},
   "outputs": [],
   "source": [
    "show_result(3)\n"
   ]
  },
  {
   "cell_type": "markdown",
   "id": "7762991d",
   "metadata": {},
   "source": [
    "#### Find 5 clusters"
   ]
  },
  {
   "cell_type": "code",
   "execution_count": null,
   "id": "032e5d0b",
   "metadata": {},
   "outputs": [],
   "source": [
    "result_normalised_2010_2019_k_5, result_absolute_2010_2019_k_5 = run_k_means(\n",
    "    data_to_cluster, data_normalised, data_absolute, False, n_clusters=5)\n",
    "\n",
    "result_normalised = result_normalised_2010_2019_k_5\n",
    "result_absolute = result_absolute_2010_2019_k_5\n",
    "\n",
    "show_cluster_profiles(result_normalised)\n",
    "\n",
    "plot_cluster_counts(result_normalised)\n"
   ]
  },
  {
   "cell_type": "code",
   "execution_count": null,
   "id": "b9d886de",
   "metadata": {},
   "outputs": [],
   "source": [
    "if False:\n",
    "    \n",
    "    result_normalised_2010_2019_h_5, result_absolute_2010_2019_h_5 = run_agglomerative(\n",
    "        data_to_cluster, data_normalised, data_absolute, n_clusters=5)\n",
    "\n",
    "    result_normalised = result_normalised_2010_2019_h_5\n",
    "    result_absolute = result_absolute_2010_2019_h_5\n",
    "\n",
    "    show_cluster_profiles(result_normalised)\n",
    "\n",
    "    plot_cluster_counts(result_normalised)\n"
   ]
  },
  {
   "cell_type": "code",
   "execution_count": null,
   "id": "86d62ac5",
   "metadata": {},
   "outputs": [],
   "source": [
    "cluster_profiles_radar(\n",
    "    result_normalised,\n",
    "    \"Clustering inventors' countries of origin by their\\nbattery type distribution using recent ten years' data:\\nProfiles of three clusters computed by k-means algorithm\",\n",
    "    (0.7, 0.87), # legend_pos\n",
    "    40, # title_pad\n",
    "    [0.2, 0.4, 0.6, 0.8], # y_ticks\n",
    "    False,\n",
    "    True,\n",
    "    'major',\n",
    "    'both',\n",
    "    'black',\n",
    "    '-',\n",
    "    1\n",
    ")\n"
   ]
  },
  {
   "cell_type": "code",
   "execution_count": null,
   "id": "03c20663",
   "metadata": {},
   "outputs": [],
   "source": [
    "show_result(0)\n"
   ]
  },
  {
   "cell_type": "code",
   "execution_count": null,
   "id": "93eb35d5",
   "metadata": {},
   "outputs": [],
   "source": [
    "show_result(1)\n"
   ]
  },
  {
   "cell_type": "code",
   "execution_count": null,
   "id": "5b7027dd",
   "metadata": {},
   "outputs": [],
   "source": [
    "show_result(2)\n"
   ]
  },
  {
   "cell_type": "code",
   "execution_count": null,
   "id": "200dc02a",
   "metadata": {},
   "outputs": [],
   "source": [
    "show_result(3)\n"
   ]
  },
  {
   "cell_type": "code",
   "execution_count": null,
   "id": "1ceefccd",
   "metadata": {},
   "outputs": [],
   "source": [
    "show_result(4)\n"
   ]
  },
  {
   "cell_type": "markdown",
   "id": "1677321a",
   "metadata": {},
   "source": [
    "#### Find 6 clusters"
   ]
  },
  {
   "cell_type": "code",
   "execution_count": null,
   "id": "def53e63",
   "metadata": {},
   "outputs": [],
   "source": [
    "result_normalised_2010_2019_k_6, result_absolute_2010_2019_k_6 = run_k_means(\n",
    "    data_to_cluster, data_normalised, data_absolute, False, n_clusters=6)\n",
    "\n",
    "result_normalised = result_normalised_2010_2019_k_6\n",
    "result_absolute = result_absolute_2010_2019_k_6\n",
    "\n",
    "show_cluster_profiles(result_normalised)\n",
    "\n",
    "plot_cluster_counts(result_normalised)\n"
   ]
  },
  {
   "cell_type": "code",
   "execution_count": null,
   "id": "f1250a9f",
   "metadata": {},
   "outputs": [],
   "source": [
    "if False:\n",
    "    \n",
    "    result_normalised_2010_2019_h_6, result_absolute_2010_2019_h_6 = run_agglomerative(\n",
    "        data_to_cluster, data_normalised, data_absolute, n_clusters=6)\n",
    "\n",
    "    result_normalised = result_normalised_2010_2019_h_6\n",
    "    result_absolute = result_absolute_2010_2019_h_6\n",
    "\n",
    "    show_cluster_profiles(result_normalised)\n",
    "\n",
    "    plot_cluster_counts(result_normalised)\n"
   ]
  },
  {
   "cell_type": "code",
   "execution_count": null,
   "id": "5c3d047a",
   "metadata": {},
   "outputs": [],
   "source": [
    "cluster_profiles_radar(\n",
    "    result_normalised,\n",
    "    \"Clustering inventors' countries of origin by their\\nbattery type distribution using recent ten years' data:\\nProfiles of three clusters computed by k-means algorithm\",\n",
    "    (0.7, 0.87), # legend_pos\n",
    "    40, # title_pad\n",
    "    [0.2, 0.4, 0.6, 0.8], # y_ticks\n",
    "    False,\n",
    "    True,\n",
    "    'major',\n",
    "    'both',\n",
    "    'black',\n",
    "    '-',\n",
    "    1\n",
    ")\n"
   ]
  },
  {
   "cell_type": "code",
   "execution_count": null,
   "id": "ab45e617",
   "metadata": {},
   "outputs": [],
   "source": [
    "show_result(0)\n"
   ]
  },
  {
   "cell_type": "code",
   "execution_count": null,
   "id": "24e7749d",
   "metadata": {},
   "outputs": [],
   "source": [
    "show_result(1)\n"
   ]
  },
  {
   "cell_type": "code",
   "execution_count": null,
   "id": "77bb9e9b",
   "metadata": {},
   "outputs": [],
   "source": [
    "show_result(2)\n"
   ]
  },
  {
   "cell_type": "code",
   "execution_count": null,
   "id": "1901c215",
   "metadata": {},
   "outputs": [],
   "source": [
    "show_result(3)\n"
   ]
  },
  {
   "cell_type": "code",
   "execution_count": null,
   "id": "999f8025",
   "metadata": {},
   "outputs": [],
   "source": [
    "show_result(4)\n"
   ]
  },
  {
   "cell_type": "code",
   "execution_count": null,
   "id": "5ae0e003",
   "metadata": {},
   "outputs": [],
   "source": [
    "show_result(5)\n"
   ]
  },
  {
   "cell_type": "markdown",
   "id": "disabled-fifth",
   "metadata": {},
   "source": [
    "### 2000-2009 and 2010-2019"
   ]
  },
  {
   "cell_type": "code",
   "execution_count": null,
   "id": "grave-pittsburgh",
   "metadata": {},
   "outputs": [],
   "source": [
    "time_periods_list = [[2000,2009], [2010,2019]]\n",
    "\n",
    "time_periods_list\n"
   ]
  },
  {
   "cell_type": "code",
   "execution_count": null,
   "id": "proprietary-landscape",
   "metadata": {},
   "outputs": [],
   "source": [
    "tech_dist_dfs_absolute_list_2000_2010_2019 = get_tech_dist_dfs_absolute_list(time_periods_list, dfs_technologies_list)\n",
    "#tech_dist_dfs_absolute_list_2000_2010_2019[0]\n"
   ]
  },
  {
   "cell_type": "code",
   "execution_count": null,
   "id": "ead78a2c",
   "metadata": {},
   "outputs": [],
   "source": [
    "#len(tech_dist_dfs_absolute_list_2000_2010_2019[1])\n",
    "len(tech_dist_dfs_absolute_list_2000_2010_2019[0])\n"
   ]
  },
  {
   "cell_type": "code",
   "execution_count": null,
   "id": "rural-establishment",
   "metadata": {},
   "outputs": [],
   "source": [
    "tech_dist_dfs_normalised_list_2000_2010_2019 = get_tech_dist_dfs_normalised_list(\n",
    "    tech_dist_dfs_absolute_list_2000_2010_2019\n",
    ")\n",
    "#tech_dist_dfs_normalised_list_2000_2010_2019[0]\n"
   ]
  },
  {
   "cell_type": "code",
   "execution_count": null,
   "id": "89da42dd",
   "metadata": {},
   "outputs": [],
   "source": [
    "#len(tech_dist_dfs_normalised_list_2000_2010_2019[1])\n",
    "len(tech_dist_dfs_normalised_list_2000_2010_2019[0])\n"
   ]
  },
  {
   "cell_type": "code",
   "execution_count": null,
   "id": "metallic-large",
   "metadata": {},
   "outputs": [],
   "source": [
    "tech_dist_dfs_normalised_scaled_list_2000_2010_2019 = get_tech_dist_dfs_normalised_scaled_list(\n",
    "    tech_dist_dfs_normalised_list_2000_2010_2019\n",
    ")\n",
    "#tech_dist_dfs_normalised_scaled_list_2000_2010_2019[0]\n"
   ]
  },
  {
   "cell_type": "code",
   "execution_count": null,
   "id": "competent-mongolia",
   "metadata": {},
   "outputs": [],
   "source": [
    "if False:\n",
    "    \n",
    "    print(list(tech_dist_dfs_absolute_list_2000_2010_2019[0].index) == list(tech_dist_dfs_absolute_list_2000_2010_2019[1].index))\n",
    "\n",
    "    print(list(tech_dist_dfs_normalised_list_2000_2010_2019[0].index) == list(tech_dist_dfs_normalised_list_2000_2010_2019[1].index))\n",
    "\n",
    "    print(list(tech_dist_dfs_normalised_scaled_list_2000_2010_2019[0].index) == list(tech_dist_dfs_normalised_scaled_list_2000_2010_2019[1].index))\n"
   ]
  },
  {
   "cell_type": "markdown",
   "id": "threatened-distribution",
   "metadata": {},
   "source": [
    "#### 2000-2009"
   ]
  },
  {
   "cell_type": "code",
   "execution_count": null,
   "id": "civilian-hawaiian",
   "metadata": {},
   "outputs": [],
   "source": [
    "data_absolute, data_normalised, data_to_cluster = get_dataframes(0,\n",
    "                                                                tech_dist_dfs_absolute_list_2000_2010_2019,\n",
    "                                                                tech_dist_dfs_normalised_list_2000_2010_2019,\n",
    "                                                                tech_dist_dfs_normalised_scaled_list_2000_2010_2019)\n"
   ]
  },
  {
   "cell_type": "code",
   "execution_count": null,
   "id": "charming-output",
   "metadata": {},
   "outputs": [],
   "source": [
    "check_clustering_methods(data_to_cluster)\n"
   ]
  },
  {
   "cell_type": "code",
   "execution_count": null,
   "id": "a1d31b98",
   "metadata": {},
   "outputs": [],
   "source": [
    "agglom_clustering_full(data_to_cluster, 2.75, 2.2, 1.9)\n"
   ]
  },
  {
   "cell_type": "markdown",
   "id": "authorized-potato",
   "metadata": {},
   "source": [
    "##### Find 2 clusters"
   ]
  },
  {
   "cell_type": "code",
   "execution_count": null,
   "id": "finnish-knowing",
   "metadata": {},
   "outputs": [],
   "source": [
    "result_normalised_2000_2009_k_2, result_absolute_2000_2009_k_2 = run_k_means(data_to_cluster, data_normalised, data_absolute,\n",
    "                                                                             False,\n",
    "                                                                             n_clusters=2)\n",
    "\n",
    "result_normalised = result_normalised_2000_2009_k_2\n",
    "result_absolute = result_absolute_2000_2009_k_2\n",
    "\n",
    "show_cluster_profiles(result_normalised)\n",
    "\n",
    "plot_cluster_counts(result_normalised)\n"
   ]
  },
  {
   "cell_type": "code",
   "execution_count": null,
   "id": "solid-uruguay",
   "metadata": {},
   "outputs": [],
   "source": [
    "result_normalised_2000_2009_h_2, result_absolute_2000_2009_h_2 = run_agglomerative(data_to_cluster, data_normalised, data_absolute, n_clusters=2)\n",
    "\n",
    "result_normalised = result_normalised_2000_2009_h_2\n",
    "result_absolute = result_absolute_2000_2009_h_2\n",
    "\n",
    "show_cluster_profiles(result_normalised)\n",
    "\n",
    "plot_cluster_counts(result_normalised)\n"
   ]
  },
  {
   "cell_type": "code",
   "execution_count": null,
   "id": "recovered-attraction",
   "metadata": {},
   "outputs": [],
   "source": [
    "show_result(0)\n"
   ]
  },
  {
   "cell_type": "code",
   "execution_count": null,
   "id": "controversial-occurrence",
   "metadata": {},
   "outputs": [],
   "source": [
    "show_result(1)\n"
   ]
  },
  {
   "cell_type": "markdown",
   "id": "portable-renaissance",
   "metadata": {},
   "source": [
    "##### Find 3 clusters"
   ]
  },
  {
   "cell_type": "code",
   "execution_count": null,
   "id": "growing-syntax",
   "metadata": {},
   "outputs": [],
   "source": [
    "result_normalised_2000_2009_k_3, result_absolute_2000_2009_k_3 = run_k_means(data_to_cluster, data_normalised, data_absolute,\n",
    "                                                                             False,\n",
    "                                                                             n_clusters=3)\n",
    "\n",
    "result_normalised = result_normalised_2000_2009_k_3\n",
    "result_absolute = result_absolute_2000_2009_k_3\n",
    "\n",
    "show_cluster_profiles(result_normalised)\n",
    "\n",
    "plot_cluster_counts(result_normalised)"
   ]
  },
  {
   "cell_type": "code",
   "execution_count": null,
   "id": "83c48896",
   "metadata": {},
   "outputs": [],
   "source": [
    "show_result(1)"
   ]
  },
  {
   "cell_type": "code",
   "execution_count": null,
   "id": "affecting-cheat",
   "metadata": {},
   "outputs": [],
   "source": [
    "result_normalised_2000_2009_h_3, result_absolute_2000_2009_h_3 = run_agglomerative(data_to_cluster, data_normalised, data_absolute, n_clusters=3)\n",
    "\n",
    "result_normalised = result_normalised_2000_2009_h_3\n",
    "result_absolute = result_absolute_2000_2009_h_3\n",
    "\n",
    "show_cluster_profiles(result_normalised)\n",
    "\n",
    "plot_cluster_counts(result_normalised)"
   ]
  },
  {
   "cell_type": "markdown",
   "id": "certain-scheme",
   "metadata": {},
   "source": [
    "##### Find 5 clusters"
   ]
  },
  {
   "cell_type": "code",
   "execution_count": null,
   "id": "nonprofit-mambo",
   "metadata": {},
   "outputs": [],
   "source": [
    "result_normalised_2000_2009_k_5, result_absolute_2000_2009_k_5 = run_k_means(data_to_cluster, data_normalised, data_absolute,\n",
    "                                                                             False,\n",
    "                                                                             n_clusters=5)\n",
    "\n",
    "result_normalised = result_normalised_2000_2009_k_5\n",
    "result_absolute = result_absolute_2000_2009_k_5\n",
    "\n",
    "show_cluster_profiles(result_normalised)\n",
    "\n",
    "plot_cluster_counts(result_normalised)\n"
   ]
  },
  {
   "cell_type": "code",
   "execution_count": null,
   "id": "global-printer",
   "metadata": {},
   "outputs": [],
   "source": [
    "result_normalised_2000_2009_h_5, result_absolute_2000_2009_h_5 = run_agglomerative(data_to_cluster, data_normalised, data_absolute, n_clusters=5)\n",
    "\n",
    "result_normalised = result_normalised_2000_2009_h_5\n",
    "result_absolute = result_absolute_2000_2009_h_5\n",
    "\n",
    "show_cluster_profiles(result_normalised)\n",
    "\n",
    "plot_cluster_counts(result_normalised)\n"
   ]
  },
  {
   "cell_type": "markdown",
   "id": "split-wellington",
   "metadata": {},
   "source": [
    "#### 2010-2019"
   ]
  },
  {
   "cell_type": "code",
   "execution_count": null,
   "id": "continuing-poison",
   "metadata": {},
   "outputs": [],
   "source": [
    "data_absolute, data_normalised, data_to_cluster = get_dataframes(1,\n",
    "                                                                tech_dist_dfs_absolute_list_2000_2010_2019,\n",
    "                                                                tech_dist_dfs_normalised_list_2000_2010_2019,\n",
    "                                                                tech_dist_dfs_normalised_scaled_list_2000_2010_2019)\n"
   ]
  },
  {
   "cell_type": "code",
   "execution_count": null,
   "id": "exotic-binding",
   "metadata": {},
   "outputs": [],
   "source": [
    "check_clustering_methods(data_to_cluster)\n"
   ]
  },
  {
   "cell_type": "code",
   "execution_count": null,
   "id": "worse-disco",
   "metadata": {},
   "outputs": [],
   "source": [
    "agglom_clustering_full(data_to_cluster, 2.5, 1.85)\n"
   ]
  },
  {
   "cell_type": "markdown",
   "id": "french-warehouse",
   "metadata": {},
   "source": [
    "##### Find 2 clusters"
   ]
  },
  {
   "cell_type": "code",
   "execution_count": null,
   "id": "prescribed-limitation",
   "metadata": {},
   "outputs": [],
   "source": [
    "result_normalised_2010_2019_k_2, result_absolute_2010_2019_k_2 = run_k_means(data_to_cluster, data_normalised, data_absolute,\n",
    "                                                                             False,\n",
    "                                                                             n_clusters=2)\n",
    "\n",
    "result_normalised = result_normalised_2010_2019_k_2\n",
    "result_absolute = result_absolute_2010_2019_k_2\n",
    "\n",
    "show_cluster_profiles(result_normalised)\n",
    "\n",
    "plot_cluster_counts(result_normalised)\n"
   ]
  },
  {
   "cell_type": "code",
   "execution_count": null,
   "id": "nuclear-washington",
   "metadata": {},
   "outputs": [],
   "source": [
    "result_normalised_2010_2019_k_2, result_absolute_2010_2019_k_2 = run_agglomerative(data_to_cluster, data_normalised, data_absolute, n_clusters=2)\n",
    "\n",
    "result_normalised = result_normalised_2010_2019_k_2\n",
    "result_absolute = result_absolute_2010_2019_k_2\n",
    "\n",
    "show_cluster_profiles(result_normalised)\n",
    "\n",
    "plot_cluster_counts(result_normalised)\n"
   ]
  },
  {
   "cell_type": "code",
   "execution_count": null,
   "id": "synthetic-cassette",
   "metadata": {},
   "outputs": [],
   "source": [
    "show_result(0)\n"
   ]
  },
  {
   "cell_type": "code",
   "execution_count": null,
   "id": "liberal-gamma",
   "metadata": {},
   "outputs": [],
   "source": [
    "show_result(1)\n"
   ]
  },
  {
   "cell_type": "markdown",
   "id": "external-discussion",
   "metadata": {},
   "source": [
    "##### Find 3 clusters"
   ]
  },
  {
   "cell_type": "code",
   "execution_count": null,
   "id": "4793d380",
   "metadata": {},
   "outputs": [],
   "source": [
    "result_normalised_2010_2019_k_3, result_absolute_2010_2019_k_3 = run_k_means(\n",
    "    data_to_cluster, data_normalised, data_absolute, \n",
    "    False,\n",
    "    n_clusters=3)\n",
    "\n",
    "result_normalised = result_normalised_2010_2019_k_3\n",
    "result_absolute = result_absolute_2010_2019_k_3\n",
    "\n",
    "show_cluster_profiles(result_normalised)\n",
    "\n",
    "plot_cluster_counts(result_normalised)\n"
   ]
  },
  {
   "cell_type": "code",
   "execution_count": null,
   "id": "37ba3305",
   "metadata": {},
   "outputs": [],
   "source": [
    "cluster_profiles_radar(\n",
    "    result_normalised,\n",
    "    \"Clustering inventors' countries of origin by their\\nbattery type distribution using recent ten years' data:\\nProfiles of three clusters computed by k-means algorithm\",\n",
    "    (0.7, 0.87), # legend_pos\n",
    "    40, # title_pad\n",
    "    [0.2, 0.4, 0.6, 0.8], # y_ticks\n",
    "    False,\n",
    "    True,\n",
    "    'major',\n",
    "    'both',\n",
    "    'black',\n",
    "    '-',\n",
    "    1\n",
    ")\n"
   ]
  },
  {
   "cell_type": "code",
   "execution_count": null,
   "id": "90c30599",
   "metadata": {},
   "outputs": [],
   "source": [
    "len(result_normalised)\n"
   ]
  },
  {
   "cell_type": "code",
   "execution_count": null,
   "id": "internal-bacteria",
   "metadata": {},
   "outputs": [],
   "source": [
    "if False:\n",
    "    \n",
    "    result_normalised_2010_2019_h_3, result_absolute_2010_2019_h_3 = run_agglomerative(data_to_cluster, data_normalised, data_absolute, n_clusters=3)\n",
    "\n",
    "    result_normalised = result_normalised_2010_2019_h_3\n",
    "    result_absolute = result_absolute_2010_2019_h_3\n",
    "\n",
    "    show_cluster_profiles(result_normalised)\n",
    "\n",
    "    plot_cluster_counts(result_normalised)\n"
   ]
  },
  {
   "cell_type": "code",
   "execution_count": null,
   "id": "dense-communist",
   "metadata": {},
   "outputs": [],
   "source": [
    "# find\n",
    "show_result(0)\n"
   ]
  },
  {
   "cell_type": "code",
   "execution_count": null,
   "id": "prerequisite-animal",
   "metadata": {},
   "outputs": [],
   "source": [
    "show_result(1)\n"
   ]
  },
  {
   "cell_type": "code",
   "execution_count": null,
   "id": "stunning-herald",
   "metadata": {},
   "outputs": [],
   "source": [
    "show_result(2)\n"
   ]
  },
  {
   "cell_type": "markdown",
   "id": "d085e2d5",
   "metadata": {},
   "source": [
    "##### Find 4 clusters"
   ]
  },
  {
   "cell_type": "code",
   "execution_count": null,
   "id": "7110ee0c",
   "metadata": {},
   "outputs": [],
   "source": [
    "result_normalised_2010_2019_k_4, result_absolute_2010_2019_k_4 = run_k_means(\n",
    "    data_to_cluster, data_normalised, data_absolute,\n",
    "    False,\n",
    "    n_clusters=4)\n",
    "\n",
    "result_normalised = result_normalised_2010_2019_k_4\n",
    "result_absolute = result_absolute_2010_2019_k_4\n",
    "\n",
    "show_cluster_profiles(result_normalised)\n",
    "\n",
    "plot_cluster_counts(result_normalised)"
   ]
  },
  {
   "cell_type": "code",
   "execution_count": null,
   "id": "58336150",
   "metadata": {},
   "outputs": [],
   "source": [
    "if False:\n",
    "    \n",
    "    result_normalised_2010_2019_h_4, result_absolute_2010_2019_h_4 = run_agglomerative(\n",
    "        data_to_cluster, data_normalised, data_absolute, n_clusters=4)\n",
    "\n",
    "    result_normalised = result_normalised_2010_2019_h_4\n",
    "    result_absolute = result_absolute_2010_2019_h_4\n",
    "\n",
    "    show_cluster_profiles(result_normalised)\n",
    "\n",
    "    plot_cluster_counts(result_normalised)"
   ]
  },
  {
   "cell_type": "code",
   "execution_count": null,
   "id": "b973b8f9",
   "metadata": {},
   "outputs": [],
   "source": [
    "show_result(0)\n"
   ]
  },
  {
   "cell_type": "code",
   "execution_count": null,
   "id": "3cc2ce93",
   "metadata": {},
   "outputs": [],
   "source": [
    "show_result(1)\n"
   ]
  },
  {
   "cell_type": "code",
   "execution_count": null,
   "id": "a2ea9402",
   "metadata": {},
   "outputs": [],
   "source": [
    "show_result(2)\n"
   ]
  },
  {
   "cell_type": "code",
   "execution_count": null,
   "id": "66976739",
   "metadata": {},
   "outputs": [],
   "source": [
    "show_result(3)\n"
   ]
  },
  {
   "cell_type": "markdown",
   "id": "6da5d66a",
   "metadata": {},
   "source": [
    "## Collect all final plots in one place"
   ]
  },
  {
   "cell_type": "code",
   "execution_count": null,
   "id": "632f0721",
   "metadata": {},
   "outputs": [],
   "source": [
    "continent_plot.show()\n"
   ]
  },
  {
   "cell_type": "code",
   "execution_count": null,
   "id": "e855f4c4",
   "metadata": {},
   "outputs": [],
   "source": [
    "person_ctry_code_plot.show()\n"
   ]
  },
  {
   "cell_type": "code",
   "execution_count": null,
   "id": "2eec1def",
   "metadata": {},
   "outputs": [],
   "source": [
    "person_ctry_pop_plot_2.show()\n"
   ]
  },
  {
   "cell_type": "code",
   "execution_count": null,
   "id": "3e184c41",
   "metadata": {
    "scrolled": false
   },
   "outputs": [],
   "source": [
    "bubbles_plot.show()\n"
   ]
  },
  {
   "cell_type": "code",
   "execution_count": null,
   "id": "e07cc326",
   "metadata": {},
   "outputs": [],
   "source": [
    "cluster_profiles_radar(\n",
    "    result_normalised,\n",
    "    \"Clustering inventors' countries of origin by their\\nbattery type distribution using recent ten years' data:\\nProfiles of three clusters computed by k-means algorithm\",\n",
    "    (0.7, 0.87), # legend_pos\n",
    "    40, # title_pad\n",
    "    [0.2, 0.4, 0.6, 0.8], # y_ticks\n",
    "    True,\n",
    "    'major',\n",
    "    'both',\n",
    "    'black',\n",
    "    '-',\n",
    "    1\n",
    ")\n"
   ]
  },
  {
   "cell_type": "code",
   "execution_count": null,
   "id": "76862ed7",
   "metadata": {},
   "outputs": [],
   "source": [
    "technologies_countries_all_plot.show()\n"
   ]
  },
  {
   "cell_type": "code",
   "execution_count": null,
   "id": "5f22bac5",
   "metadata": {},
   "outputs": [],
   "source": []
  }
 ],
 "metadata": {
  "kernelspec": {
   "display_name": "Python 3 (ipykernel)",
   "language": "python",
   "name": "python3"
  },
  "language_info": {
   "codemirror_mode": {
    "name": "ipython",
    "version": 3
   },
   "file_extension": ".py",
   "mimetype": "text/x-python",
   "name": "python",
   "nbconvert_exporter": "python",
   "pygments_lexer": "ipython3",
   "version": "3.9.7"
  }
 },
 "nbformat": 4,
 "nbformat_minor": 5
}
